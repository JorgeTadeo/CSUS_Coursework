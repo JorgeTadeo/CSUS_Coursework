{
 "cells": [
  {
   "cell_type": "code",
   "execution_count": 1,
   "metadata": {},
   "outputs": [],
   "source": [
    "import collections\n",
    "from sklearn import preprocessing\n",
    "from sklearn import metrics \n",
    "from sklearn.model_selection import train_test_split\n",
    "import sklearn.feature_extraction.text as sk_text\n",
    "\n",
    "import matplotlib.pyplot as plt\n",
    "import numpy as np\n",
    "import pandas as pd\n",
    "import csv\n",
    "import shutil\n",
    "import os\n",
    "import io\n",
    "import json\n",
    "import requests \n",
    "import tensorflow as tf\n",
    "import tensorflow.keras \n",
    "from tensorflow.keras.layers import Dense, Activation \n",
    "from tensorflow.keras.callbacks import EarlyStopping\n",
    "from tensorflow.keras.callbacks import ModelCheckpoint\n",
    "from tensorflow.keras.models import load_model \n",
    "from tensorflow.keras.models import Sequential \n",
    "\n",
    "from matplotlib.pyplot import figure, show\n",
    "%matplotlib inline\n",
    "\n",
    "# Encode text values to dummy variables(i.e. [1,0,0],[0,1,0],[0,0,1] for red,green,blue)\n",
    "def encode_text_dummy(df, name):\n",
    "    dummies = pd.get_dummies(df[name])\n",
    "    for x in dummies.columns:\n",
    "        dummy_name = \"{}-{}\".format(name, x)\n",
    "        df[dummy_name] = dummies[x]\n",
    "    df.drop(name, axis=1, inplace=True)\n",
    "\n",
    "\n",
    "# Encode text values to indexes(i.e. [1],[2],[3] for red,green,blue).\n",
    "def encode_text_index(df, name):\n",
    "    le = preprocessing.LabelEncoder()\n",
    "    df[name] = le.fit_transform(df[name])\n",
    "    return le.classes_\n",
    "\n",
    "\n",
    "# Encode a numeric column as zscores\n",
    "def encode_numeric_zscore(df, name, mean=None, sd=None):\n",
    "    if mean is None:\n",
    "        mean = df[name].mean()\n",
    "\n",
    "    if sd is None:\n",
    "        sd = df[name].std()\n",
    "\n",
    "    df[name] = (df[name] - mean) / sd\n",
    "\n",
    "\n",
    "# Convert all missing values in the specified column to the median\n",
    "def missing_median(df, name):\n",
    "    med = df[name].median()\n",
    "    df[name] = df[name].fillna(med)\n",
    "\n",
    "\n",
    "# Convert all missing values in the specified column to the default\n",
    "def missing_default(df, name, default_value):\n",
    "    df[name] = df[name].fillna(default_value)\n",
    "\n",
    "\n",
    "# Convert a Pandas dataframe to the x,y inputs that TensorFlow needs which is numpy array \n",
    "def to_xy(df, target):\n",
    "    result = []\n",
    "    for x in df.columns:\n",
    "        if x != target:\n",
    "            result.append(x)\n",
    "    # find out the type of the target column. \n",
    "    target_type = df[target].dtypes\n",
    "    target_type = target_type[0] if isinstance(target_type, collections.Sequence) else target_type\n",
    "    # Encode to int for classification, float otherwise. TensorFlow likes 32 bits.\n",
    "    \n",
    "    #Tensorflow only support numpy array for now \n",
    "    \n",
    "    #if output column is integer that means the problem is classification problem\n",
    "    #in this case, tensorflow wants output to be 1hot encoding \n",
    "    if target_type in (np.int64, np.int32):\n",
    "        # Classification\n",
    "        dummies = pd.get_dummies(df[target]) #1 hot encoding \n",
    "        # call dataframe.values to convert dataframe to numpy array \n",
    "        # return 2 value , X and Y \n",
    "        # first return value is the X matrix convert to np\n",
    "        # second return value is the Y matrix after 1 hot encoding and convert to np \n",
    "        return df[result].values.astype(np.float32), dummies.values.astype(np.float32)\n",
    "    else:\n",
    "        # Regression\n",
    "        return df[result].values.astype(np.float32), df[target].values.astype(np.float32)\n",
    "\n",
    "# Nicely formatted time string\n",
    "def hms_string(sec_elapsed):\n",
    "    h = int(sec_elapsed / (60 * 60))\n",
    "    m = int((sec_elapsed % (60 * 60)) / 60)\n",
    "    s = sec_elapsed % 60\n",
    "    return \"{}:{:>02}:{:>05.2f}\".format(h, m, s)\n",
    "\n",
    "\n",
    "# Regression chart.\n",
    "def chart_regression(pred,y,sort=True):\n",
    "    t = pd.DataFrame({'pred' : pred, 'y' : y})\n",
    "    plt.figure(figsize=(20,10))\n",
    "    if sort:\n",
    "        t.sort_values(by=['y'],inplace=True)\n",
    "    b = plt.plot(t['pred'].tolist(),label='prediction',color='b')\n",
    "    a = plt.plot(t['y'].tolist(),label='expected',linewidth=3.0,color='r')\n",
    "    plt.ylabel('output')\n",
    "    plt.legend()\n",
    "    plt.show()\n",
    "\n",
    "# Remove all rows where the specified column is +/- sd standard deviations\n",
    "def remove_outliers(df, name, sd):\n",
    "    drop_rows = df.index[(np.abs(df[name] - df[name].mean()) >= (sd * df[name].std()))]\n",
    "    df.drop(drop_rows, axis=0, inplace=True)\n",
    "\n",
    "\n",
    "# Encode a column to a range between normalized_low and normalized_high.\n",
    "def encode_numeric_range(df, name, normalized_low=-1, normalized_high=1,\n",
    "                         data_low=None, data_high=None):\n",
    "    if data_low is None:\n",
    "        data_low = min(df[name])\n",
    "        data_high = max(df[name])\n",
    "\n",
    "    df[name] = ((df[name] - data_low) / (data_high - data_low)) * (normalized_high - normalized_low) + normalized_low\n",
    "\n",
    "\n",
    "# Read file , fill missing value with NA \n",
    "def readfile(filename):\n",
    "    path = \"./data/\"\n",
    "    return pd.read_csv(os.path.join(path,filename) , na_values=['NA','?'])\n",
    "\n"
   ]
  },
  {
   "cell_type": "markdown",
   "metadata": {},
   "source": [
    "### Load business.json -> business.tsv"
   ]
  },
  {
   "cell_type": "code",
   "execution_count": 4,
   "metadata": {},
   "outputs": [],
   "source": [
    "outfile = open(\"business.tsv\", 'w')\n",
    "sfile = csv.writer(outfile, delimiter =\"\\t\", quoting=csv.QUOTE_MINIMAL)\n",
    "sfile.writerow(['business_id','name', 'stars' , 'review_count' , 'latitude' , 'longitude'])\n",
    "\n",
    "with open('business.json', encoding='utf-8') as f:\n",
    "    for line in f:\n",
    "        row = json.loads(line)\n",
    "         # some special char must be encoded in 'utf-8'\n",
    "        sfile.writerow([row['business_id'], \n",
    "                       (row['name']).encode('utf-8'), \n",
    "                        row['stars'], \n",
    "                        row['review_count'],\n",
    "                        row['latitude'],\n",
    "                        row['longitude']])\n",
    "\n",
    "outfile.close()"
   ]
  },
  {
   "cell_type": "markdown",
   "metadata": {},
   "source": [
    "### Load review.json -> review.tsv"
   ]
  },
  {
   "cell_type": "code",
   "execution_count": 5,
   "metadata": {},
   "outputs": [],
   "source": [
    "outfile = open(\"review.tsv\", 'w')\n",
    "sfile = csv.writer(outfile, delimiter =\"\\t\", quoting=csv.QUOTE_MINIMAL)\n",
    "sfile.writerow(['business_id','stars', 'text'])\n",
    "\n",
    "with open('review.json', encoding='utf-8') as f:\n",
    "    for line in f:\n",
    "        row = json.loads(line)\n",
    "        sfile.writerow([row['business_id'], row['stars'], (row['text']).encode('utf-8')])\n",
    "\n",
    "outfile.close()"
   ]
  },
  {
   "cell_type": "markdown",
   "metadata": {},
   "source": [
    "### Prepare Input table"
   ]
  },
  {
   "cell_type": "code",
   "execution_count": 6,
   "metadata": {},
   "outputs": [],
   "source": [
    "#load business.tsv \n",
    "business_df = pd.read_csv('business.tsv', delimiter =\"\\t\", encoding=\"utf-8\")"
   ]
  },
  {
   "cell_type": "code",
   "execution_count": 7,
   "metadata": {},
   "outputs": [],
   "source": [
    "#load review_stars.tsv and sum reviews \n",
    "review_df = pd.read_csv('review.tsv', delimiter =\"\\t\", encoding=\"utf-8\")"
   ]
  },
  {
   "cell_type": "code",
   "execution_count": 8,
   "metadata": {},
   "outputs": [],
   "source": [
    "# Group review by business_id to numpy array\n",
    "df_review_agg = review_df.groupby('business_id')['text'].sum()"
   ]
  },
  {
   "cell_type": "code",
   "execution_count": 9,
   "metadata": {},
   "outputs": [],
   "source": [
    "#Convert df_review_agg to dataframe\n",
    "df_ready_for_sklearn = pd.DataFrame( {'business_id': df_review_agg.index, \n",
    "                                      'all_reviews' : df_review_agg.values,})"
   ]
  },
  {
   "cell_type": "code",
   "execution_count": 10,
   "metadata": {},
   "outputs": [
    {
     "data": {
      "text/html": [
       "<div>\n",
       "<style scoped>\n",
       "    .dataframe tbody tr th:only-of-type {\n",
       "        vertical-align: middle;\n",
       "    }\n",
       "\n",
       "    .dataframe tbody tr th {\n",
       "        vertical-align: top;\n",
       "    }\n",
       "\n",
       "    .dataframe thead th {\n",
       "        text-align: right;\n",
       "    }\n",
       "</style>\n",
       "<table border=\"1\" class=\"dataframe\">\n",
       "  <thead>\n",
       "    <tr style=\"text-align: right;\">\n",
       "      <th></th>\n",
       "      <th>business_id</th>\n",
       "      <th>all_reviews</th>\n",
       "    </tr>\n",
       "  </thead>\n",
       "  <tbody>\n",
       "    <tr>\n",
       "      <th>0</th>\n",
       "      <td>--1UhMGODdWsrMastO9DZw</td>\n",
       "      <td>b'If you are looking for authentic Mexican str...</td>\n",
       "    </tr>\n",
       "    <tr>\n",
       "      <th>1</th>\n",
       "      <td>--6MefnULPED_I942VcFNA</td>\n",
       "      <td>b\"They have the best Chinese BBQ Pork (Char Si...</td>\n",
       "    </tr>\n",
       "    <tr>\n",
       "      <th>2</th>\n",
       "      <td>--7zmmkVg-IMGaXbuVd0SQ</td>\n",
       "      <td>b\"I'm a tad reluctant to write a review as I r...</td>\n",
       "    </tr>\n",
       "    <tr>\n",
       "      <th>3</th>\n",
       "      <td>--8LPVSo5i0Oo61X01sV9A</td>\n",
       "      <td>b'Dr. LaCognata is great.  He is a great liste...</td>\n",
       "    </tr>\n",
       "    <tr>\n",
       "      <th>4</th>\n",
       "      <td>--9QQLMTbFzLJ_oT-ON3Xw</td>\n",
       "      <td>b'Always great customer service. Affordable ha...</td>\n",
       "    </tr>\n",
       "  </tbody>\n",
       "</table>\n",
       "</div>"
      ],
      "text/plain": [
       "              business_id                                        all_reviews\n",
       "0  --1UhMGODdWsrMastO9DZw  b'If you are looking for authentic Mexican str...\n",
       "1  --6MefnULPED_I942VcFNA  b\"They have the best Chinese BBQ Pork (Char Si...\n",
       "2  --7zmmkVg-IMGaXbuVd0SQ  b\"I'm a tad reluctant to write a review as I r...\n",
       "3  --8LPVSo5i0Oo61X01sV9A  b'Dr. LaCognata is great.  He is a great liste...\n",
       "4  --9QQLMTbFzLJ_oT-ON3Xw  b'Always great customer service. Affordable ha..."
      ]
     },
     "execution_count": 10,
     "metadata": {},
     "output_type": "execute_result"
    }
   ],
   "source": [
    "df_ready_for_sklearn.head()"
   ]
  },
  {
   "cell_type": "code",
   "execution_count": 11,
   "metadata": {},
   "outputs": [],
   "source": [
    "#Combine df_ready_for_sklearn with business_df to be the \"final table\" : final table serve as the input table.\n",
    "final = pd.merge(df_ready_for_sklearn , business_df  , on='business_id' , how='inner')"
   ]
  },
  {
   "cell_type": "code",
   "execution_count": 12,
   "metadata": {},
   "outputs": [
    {
     "data": {
      "text/html": [
       "<div>\n",
       "<style scoped>\n",
       "    .dataframe tbody tr th:only-of-type {\n",
       "        vertical-align: middle;\n",
       "    }\n",
       "\n",
       "    .dataframe tbody tr th {\n",
       "        vertical-align: top;\n",
       "    }\n",
       "\n",
       "    .dataframe thead th {\n",
       "        text-align: right;\n",
       "    }\n",
       "</style>\n",
       "<table border=\"1\" class=\"dataframe\">\n",
       "  <thead>\n",
       "    <tr style=\"text-align: right;\">\n",
       "      <th></th>\n",
       "      <th>business_id</th>\n",
       "      <th>all_reviews</th>\n",
       "      <th>name</th>\n",
       "      <th>stars</th>\n",
       "      <th>review_count</th>\n",
       "      <th>latitude</th>\n",
       "      <th>longitude</th>\n",
       "    </tr>\n",
       "  </thead>\n",
       "  <tbody>\n",
       "    <tr>\n",
       "      <th>0</th>\n",
       "      <td>--1UhMGODdWsrMastO9DZw</td>\n",
       "      <td>b'If you are looking for authentic Mexican str...</td>\n",
       "      <td>b'The Spicy Amigos'</td>\n",
       "      <td>4.0</td>\n",
       "      <td>24</td>\n",
       "      <td>51.049673</td>\n",
       "      <td>-114.079977</td>\n",
       "    </tr>\n",
       "    <tr>\n",
       "      <th>1</th>\n",
       "      <td>--6MefnULPED_I942VcFNA</td>\n",
       "      <td>b\"They have the best Chinese BBQ Pork (Char Si...</td>\n",
       "      <td>b\"John's Chinese BBQ Restaurant\"</td>\n",
       "      <td>3.0</td>\n",
       "      <td>44</td>\n",
       "      <td>43.841694</td>\n",
       "      <td>-79.399755</td>\n",
       "    </tr>\n",
       "    <tr>\n",
       "      <th>2</th>\n",
       "      <td>--7zmmkVg-IMGaXbuVd0SQ</td>\n",
       "      <td>b\"I'm a tad reluctant to write a review as I r...</td>\n",
       "      <td>b'Primal Brewery'</td>\n",
       "      <td>4.0</td>\n",
       "      <td>58</td>\n",
       "      <td>35.437106</td>\n",
       "      <td>-80.843688</td>\n",
       "    </tr>\n",
       "    <tr>\n",
       "      <th>3</th>\n",
       "      <td>--8LPVSo5i0Oo61X01sV9A</td>\n",
       "      <td>b'Dr. LaCognata is great.  He is a great liste...</td>\n",
       "      <td>b'Valley Bone and Joint Specialists'</td>\n",
       "      <td>3.5</td>\n",
       "      <td>4</td>\n",
       "      <td>33.378589</td>\n",
       "      <td>-111.748145</td>\n",
       "    </tr>\n",
       "    <tr>\n",
       "      <th>4</th>\n",
       "      <td>--9QQLMTbFzLJ_oT-ON3Xw</td>\n",
       "      <td>b'Always great customer service. Affordable ha...</td>\n",
       "      <td>b'Great Clips'</td>\n",
       "      <td>3.5</td>\n",
       "      <td>12</td>\n",
       "      <td>33.362813</td>\n",
       "      <td>-111.908995</td>\n",
       "    </tr>\n",
       "  </tbody>\n",
       "</table>\n",
       "</div>"
      ],
      "text/plain": [
       "              business_id                                        all_reviews  \\\n",
       "0  --1UhMGODdWsrMastO9DZw  b'If you are looking for authentic Mexican str...   \n",
       "1  --6MefnULPED_I942VcFNA  b\"They have the best Chinese BBQ Pork (Char Si...   \n",
       "2  --7zmmkVg-IMGaXbuVd0SQ  b\"I'm a tad reluctant to write a review as I r...   \n",
       "3  --8LPVSo5i0Oo61X01sV9A  b'Dr. LaCognata is great.  He is a great liste...   \n",
       "4  --9QQLMTbFzLJ_oT-ON3Xw  b'Always great customer service. Affordable ha...   \n",
       "\n",
       "                                   name  stars  review_count   latitude  \\\n",
       "0                   b'The Spicy Amigos'    4.0            24  51.049673   \n",
       "1      b\"John's Chinese BBQ Restaurant\"    3.0            44  43.841694   \n",
       "2                     b'Primal Brewery'    4.0            58  35.437106   \n",
       "3  b'Valley Bone and Joint Specialists'    3.5             4  33.378589   \n",
       "4                        b'Great Clips'    3.5            12  33.362813   \n",
       "\n",
       "    longitude  \n",
       "0 -114.079977  \n",
       "1  -79.399755  \n",
       "2  -80.843688  \n",
       "3 -111.748145  \n",
       "4 -111.908995  "
      ]
     },
     "execution_count": 12,
     "metadata": {},
     "output_type": "execute_result"
    }
   ],
   "source": [
    "final.head()"
   ]
  },
  {
   "cell_type": "code",
   "execution_count": 13,
   "metadata": {},
   "outputs": [],
   "source": [
    "#Drop all business < 10 review count \n",
    "final = final[final.review_count >= 10]"
   ]
  },
  {
   "cell_type": "code",
   "execution_count": 14,
   "metadata": {},
   "outputs": [],
   "source": [
    "#Save final to csv \n",
    "final.to_csv('final.csv', index=False) "
   ]
  },
  {
   "cell_type": "code",
   "execution_count": 15,
   "metadata": {},
   "outputs": [
    {
     "data": {
      "text/plain": [
       "(92592, 7)"
      ]
     },
     "execution_count": 15,
     "metadata": {},
     "output_type": "execute_result"
    }
   ],
   "source": [
    "final.shape "
   ]
  },
  {
   "cell_type": "markdown",
   "metadata": {},
   "source": [
    "### Step 1 : Read from final.csv that is the input data"
   ]
  },
  {
   "cell_type": "code",
   "execution_count": 2,
   "metadata": {},
   "outputs": [
    {
     "name": "stdout",
     "output_type": "stream",
     "text": [
      "Wall time: 26.4 s\n"
     ]
    }
   ],
   "source": [
    "%%time\n",
    "final = pd.read_csv('final.csv', na_values=['NA','?'])"
   ]
  },
  {
   "cell_type": "code",
   "execution_count": 13,
   "metadata": {},
   "outputs": [
    {
     "data": {
      "text/html": [
       "<div>\n",
       "<style scoped>\n",
       "    .dataframe tbody tr th:only-of-type {\n",
       "        vertical-align: middle;\n",
       "    }\n",
       "\n",
       "    .dataframe tbody tr th {\n",
       "        vertical-align: top;\n",
       "    }\n",
       "\n",
       "    .dataframe thead th {\n",
       "        text-align: right;\n",
       "    }\n",
       "</style>\n",
       "<table border=\"1\" class=\"dataframe\">\n",
       "  <thead>\n",
       "    <tr style=\"text-align: right;\">\n",
       "      <th></th>\n",
       "      <th>business_id</th>\n",
       "      <th>all_reviews</th>\n",
       "      <th>name</th>\n",
       "      <th>stars</th>\n",
       "      <th>review_count</th>\n",
       "      <th>latitude</th>\n",
       "      <th>longitude</th>\n",
       "    </tr>\n",
       "  </thead>\n",
       "  <tbody>\n",
       "    <tr>\n",
       "      <th>0</th>\n",
       "      <td>--1UhMGODdWsrMastO9DZw</td>\n",
       "      <td>b'If you are looking for authentic Mexican str...</td>\n",
       "      <td>b'The Spicy Amigos'</td>\n",
       "      <td>4.0</td>\n",
       "      <td>24</td>\n",
       "      <td>51.049673</td>\n",
       "      <td>-114.079977</td>\n",
       "    </tr>\n",
       "    <tr>\n",
       "      <th>1</th>\n",
       "      <td>--6MefnULPED_I942VcFNA</td>\n",
       "      <td>b\"They have the best Chinese BBQ Pork (Char Si...</td>\n",
       "      <td>b\"John's Chinese BBQ Restaurant\"</td>\n",
       "      <td>3.0</td>\n",
       "      <td>44</td>\n",
       "      <td>43.841694</td>\n",
       "      <td>-79.399755</td>\n",
       "    </tr>\n",
       "    <tr>\n",
       "      <th>2</th>\n",
       "      <td>--7zmmkVg-IMGaXbuVd0SQ</td>\n",
       "      <td>b\"I'm a tad reluctant to write a review as I r...</td>\n",
       "      <td>b'Primal Brewery'</td>\n",
       "      <td>4.0</td>\n",
       "      <td>58</td>\n",
       "      <td>35.437106</td>\n",
       "      <td>-80.843688</td>\n",
       "    </tr>\n",
       "    <tr>\n",
       "      <th>3</th>\n",
       "      <td>--9QQLMTbFzLJ_oT-ON3Xw</td>\n",
       "      <td>b'Always great customer service. Affordable ha...</td>\n",
       "      <td>b'Great Clips'</td>\n",
       "      <td>3.5</td>\n",
       "      <td>12</td>\n",
       "      <td>33.362813</td>\n",
       "      <td>-111.908995</td>\n",
       "    </tr>\n",
       "    <tr>\n",
       "      <th>4</th>\n",
       "      <td>--9e1ONYQuAa-CB_Rrw7Tw</td>\n",
       "      <td>b'Very busy and noisy restaurant.\\nAsparagas w...</td>\n",
       "      <td>b'Delmonico Steakhouse'</td>\n",
       "      <td>4.0</td>\n",
       "      <td>1613</td>\n",
       "      <td>36.123183</td>\n",
       "      <td>-115.169190</td>\n",
       "    </tr>\n",
       "  </tbody>\n",
       "</table>\n",
       "</div>"
      ],
      "text/plain": [
       "              business_id                                        all_reviews  \\\n",
       "0  --1UhMGODdWsrMastO9DZw  b'If you are looking for authentic Mexican str...   \n",
       "1  --6MefnULPED_I942VcFNA  b\"They have the best Chinese BBQ Pork (Char Si...   \n",
       "2  --7zmmkVg-IMGaXbuVd0SQ  b\"I'm a tad reluctant to write a review as I r...   \n",
       "3  --9QQLMTbFzLJ_oT-ON3Xw  b'Always great customer service. Affordable ha...   \n",
       "4  --9e1ONYQuAa-CB_Rrw7Tw  b'Very busy and noisy restaurant.\\nAsparagas w...   \n",
       "\n",
       "                               name  stars  review_count   latitude  \\\n",
       "0               b'The Spicy Amigos'    4.0            24  51.049673   \n",
       "1  b\"John's Chinese BBQ Restaurant\"    3.0            44  43.841694   \n",
       "2                 b'Primal Brewery'    4.0            58  35.437106   \n",
       "3                    b'Great Clips'    3.5            12  33.362813   \n",
       "4           b'Delmonico Steakhouse'    4.0          1613  36.123183   \n",
       "\n",
       "    longitude  \n",
       "0 -114.079977  \n",
       "1  -79.399755  \n",
       "2  -80.843688  \n",
       "3 -111.908995  \n",
       "4 -115.169190  "
      ]
     },
     "execution_count": 13,
     "metadata": {},
     "output_type": "execute_result"
    }
   ],
   "source": [
    "final.head()"
   ]
  },
  {
   "cell_type": "markdown",
   "metadata": {},
   "source": [
    "### Step 2 :Preprocess"
   ]
  },
  {
   "cell_type": "code",
   "execution_count": 3,
   "metadata": {},
   "outputs": [],
   "source": [
    "#Remove column with no prediction power \n",
    "final.drop(['business_id' ,'name' , 'review_count'],axis=1,inplace=True)"
   ]
  },
  {
   "cell_type": "code",
   "execution_count": 4,
   "metadata": {},
   "outputs": [],
   "source": [
    "#Missing Median\n",
    "missing_median(final, 'latitude')\n",
    "missing_median(final, 'longitude')"
   ]
  },
  {
   "cell_type": "code",
   "execution_count": 5,
   "metadata": {},
   "outputs": [],
   "source": [
    "#Encoding / Normalize input feature\n",
    "encode_numeric_zscore(final, 'latitude')\n",
    "encode_numeric_zscore(final, 'longitude')"
   ]
  },
  {
   "cell_type": "code",
   "execution_count": 6,
   "metadata": {},
   "outputs": [
    {
     "name": "stdout",
     "output_type": "stream",
     "text": [
      "['00', '000', '00pm', '10', '100', '1000', '10am', '10pm', '11', '11am', '11pm', '12', '120', '13', '14', '15', '150', '16', '17', '18', '19', '1pm', '1st', '20', '200', '2011', '2012', '2013', '2014', '2015', '2016', '2017', '2018', '21', '22', '23', '24', '25', '250', '26', '27', '28', '29', '2nd', '2pm', '30', '300', '30am', '30pm', '32', '35', '36', '3pm', '3rd', '40', '400', '45', '48', '49', '4pm', '4th', '50', '500', '55', '5pm', '5th', '60', '65', '6pm', '70', '75', '7pm', '7th', '80', '800', '85', '8pm', '90', '95', '99', '9am', '9pm', 'ability', 'able', 'absolute', 'absolutely', 'ac', 'accent', 'accept', 'acceptable', 'accepted', 'access', 'accessible', 'accessories', 'accident', 'accidentally', 'accommodate', 'accommodated', 'accommodating', 'accompanied', 'according', 'accordingly', 'account', 'accurate', 'acknowledge', 'acknowledged', 'acrylic', 'act', 'acted', 'acting', 'action', 'activities', 'activity', 'acts', 'actual', 'actually', 'ad', 'adam', 'add', 'added', 'addicted', 'adding', 'addition', 'additional', 'additionally', 'address', 'addressed', 'adds', 'adequate', 'adjust', 'admission', 'admit', 'adorable', 'adore', 'adult', 'adults', 'advance', 'advantage', 'adventure', 'adventurous', 'advertise', 'advertised', 'advertising', 'advice', 'advise', 'advised', 'afford', 'affordable', 'afraid', 'afternoon', 'age', 'aged', 'agent', 'ages', 'aggressive', 'ago', 'agree', 'agreed', 'ah', 'ahead', 'ahi', 'ai', 'ain', 'aioli', 'air', 'airline', 'airport', 'airy', 'aisle', 'aisles', 'aka', 'al', 'alas', 'albeit', 'alcohol', 'alcoholic', 'ale', 'alex', 'alfredo', 'allergic', 'allergies', 'allergy', 'alley', 'allow', 'allowed', 'allowing', 'allows', 'almond', 'alot', 'alright', 'alternative', 'amazed', 'amazing', 'amazingly', 'amazon', 'ambiance', 'ambience', 'amenities', 'america', 'american', 'americanized', 'amounts', 'ample', 'amy', 'angel', 'angeles', 'angry', 'animal', 'animals', 'anniversary', 'annoyed', 'annoying', 'annual', 'answer', 'answered', 'answering', 'answers', 'anthony', 'anticipated', 'anybody', 'anymore', 'anytime', 'anyways', 'apart', 'apartment', 'apartments', 'apologetic', 'apologies', 'apologize', 'apologized', 'apology', 'app', 'apparent', 'apparently', 'appeal', 'appealing', 'appear', 'appearance', 'appeared', 'appears', 'appetite', 'appetizer', 'appetizers', 'appetizing', 'apple', 'apples', 'applied', 'apply', 'appointment', 'appointments', 'appreciate', 'appreciated', 'approach', 'approached', 'appropriate', 'approved', 'approximately', 'apps', 'appt', 'april', 'aquarium', 'arcade', 'area', 'areas', 'aren', 'arena', 'argue', 'aria', 'arizona', 'arm', 'arms', 'aroma', 'arranged', 'arrangement', 'array', 'arrival', 'arrive', 'arrived', 'arrives', 'arriving', 'art', 'artichoke', 'artist', 'artists', 'artwork', 'arugula', 'asada', 'asap', 'ashley', 'asian', 'aside', 'ask', 'asked', 'asking', 'asks', 'asleep', 'asparagus', 'aspect', 'ass', 'assigned', 'assist', 'assistance', 'assistant', 'assisted', 'associate', 'associates', 'assorted', 'assortment', 'assume', 'assumed', 'assuming', 'assured', 'asu', 'ate', 'atm', 'atmosphere', 'attached', 'attempt', 'attempted', 'attempts', 'attend', 'attendant', 'attended', 'attending', 'attention', 'attentive', 'attitude', 'attitudes', 'attractive', 'au', 'audience', 'august', 'aunt', 'authentic', 'auto', 'automatically', 'availability', 'available', 'ave', 'avec', 'avenue', 'average', 'avocado', 'avoid', 'aware', 'away', 'awesome', 'awful', 'awhile', 'awkward', 'ayce', 'az', 'babies', 'baby', 'bachelorette', 'backed', 'background', 'backyard', 'bacon', 'bad', 'badly', 'bag', 'bagel', 'bagels', 'bags', 'baguette', 'bake', 'baked', 'bakery', 'baklava', 'balance', 'balanced', 'balcony', 'ball', 'balls', 'balsamic', 'banana', 'bananas', 'band', 'bands', 'bang', 'banh', 'bank', 'bao', 'bar', 'barbecue', 'barber', 'bare', 'barely', 'bargain', 'barista', 'baristas', 'barrel', 'bars', 'bartender', 'bartenders', 'base', 'baseball', 'based', 'basement', 'basic', 'basically', 'basics', 'basil', 'basis', 'basket', 'basketball', 'bass', 'batch', 'bath', 'bathroom', 'bathrooms', 'batter', 'battered', 'battery', 'bay', 'bbq', 'bc', 'bday', 'beach', 'bean', 'beans', 'bear', 'beat', 'beats', 'beautiful', 'beautifully', 'beauty', 'bed', 'bedroom', 'beds', 'beef', 'beer', 'beers', 'beet', 'beets', 'began', 'begin', 'beginning', 'behavior', 'believe', 'bell', 'bellagio', 'belly', 'belt', 'ben', 'bench', 'benches', 'benedict', 'benefit', 'benny', 'bento', 'berries', 'berry', 'best', 'bet', 'better', 'beverage', 'beverages', 'beware', 'bf', 'bibimbap', 'bien', 'big', 'bigger', 'biggest', 'bike', 'bikes', 'billing', 'bills', 'bird', 'birds', 'birthday', 'biryani', 'biscuit', 'biscuits', 'bisque', 'bistro', 'bit', 'bite', 'bites', 'bits', 'bitter', 'biz_photos', 'black', 'blackened', 'blah', 'blame', 'bland', 'blast', 'blend', 'blended', 'bleu', 'blew', 'block', 'blocks', 'blonde', 'blood', 'bloody', 'blow', 'blowing', 'blown', 'blt', 'blue', 'blueberry', 'blvd', 'bmw', 'bo', 'board', 'boarding', 'boat', 'bob', 'boba', 'bobby', 'body', 'boiled', 'bold', 'bomb', 'bon', 'bone', 'boneless', 'bones', 'bonus', 'book', 'booked', 'booking', 'books', 'boot', 'booth', 'booths', 'booze', 'bored', 'boring', 'born', 'boss', 'boston', 'bother', 'bothered', 'bottle', 'bottled', 'bottles', 'bottomless', 'bought', 'bouncer', 'bourbon', 'boutique', 'bowl', 'bowling', 'bowls', 'box', 'boxes', 'boy', 'boyfriend', 'boys', 'br', 'braised', 'brake', 'brakes', 'branch', 'brand', 'brands', 'brazilian', 'bread', 'breaded', 'breading', 'breads', 'break', 'breakfast', 'breaking', 'breaks', 'breast', 'breath', 'breeze', 'brew', 'brewed', 'brewery', 'brews', 'brian', 'brick', 'bridal', 'bride', 'brie', 'brief', 'bright', 'brilliant', 'bring', 'bringing', 'brings', 'brioche', 'brisket', 'broccoli', 'broke', 'broken', 'broth', 'brother', 'brothers', 'brought', 'brown', 'brownie', 'browns', 'brows', 'browse', 'brulee', 'brunch', 'bruschetta', 'brussel', 'brussels', 'bs', 'btw', 'bubble', 'buck', 'bucket', 'bucks', 'bud', 'buddy', 'budget', 'buds', 'buffalo', 'buffet', 'buffets', 'bug', 'bugs', 'build', 'building', 'buildings', 'built', 'bulgogi', 'bulk', 'bull', 'bummed', 'bummer', 'bun', 'bunch', 'buns', 'burger', 'burgers', 'burn', 'burned', 'burning', 'burnt', 'burrito', 'burritos', 'bus', 'busier', 'business', 'businesses', 'busy', 'butcher', 'butt', 'butter', 'buttermilk', 'buttery', 'button', 'buy', 'buyer', 'buying', 'buzz', 'byob', 'ca', 'cab', 'cabbage', 'cable', 'caesar', 'caesars', 'caf', 'cafe', 'cafeteria', 'cajun', 'cake', 'cakes', 'calamari', 'calgary', 'cali', 'california', 'called', 'calling', 'calls', 'calm', 'calories', 'calzone', 'came', 'camelback', 'camera', 'campus', 'canada', 'canadian', 'canal', 'cancel', 'cancelled', 'candle', 'candy', 'canned', 'cannoli', 'cans', 'canyon', 'cap', 'capacity', 'cappuccino', 'caprese', 'car', 'caramel', 'caramelized', 'carb', 'card', 'cardboard', 'cards', 'care', 'cared', 'careful', 'carefully', 'cares', 'caring', 'carne', 'carnitas', 'carolina', 'carpaccio', 'carpet', 'carpets', 'carried', 'carrot', 'carrots', 'carry', 'carrying', 'cars', 'cart', 'carte', 'carts', 'case', 'cases', 'cash', 'cashier', 'cashiers', 'casino', 'casinos', 'cast', 'casual', 'cat', 'catch', 'catching', 'category', 'cater', 'catered', 'catering', 'catfish', 'cats', 'caught', 'cauliflower', 'cause', 'caused', 'causing', 'cave', 'ce', 'ceiling', 'ceilings', 'celebrate', 'celebrating', 'celebration', 'celery', 'cell', 'cent', 'center', 'central', 'centre', 'cents', 'ceremony', 'certain', 'certainly', 'certificate', 'ceviche', 'chai', 'chain', 'chains', 'chair', 'chairs', 'challenge', 'challenging', 'champagne', 'chance', 'chances', 'chandler', 'change', 'changed', 'changes', 'changing', 'char', 'character', 'charcuterie', 'charge', 'charged', 'charges', 'charging', 'charlotte', 'charm', 'charming', 'charred', 'chase', 'chat', 'chatted', 'chatting', 'cheap', 'cheaper', 'cheapest', 'check', 'checked', 'checking', 'checkout', 'checks', 'cheddar', 'cheerful', 'cheers', 'cheese', 'cheeseburger', 'cheesecake', 'cheeses', 'cheesesteak', 'cheesy', 'chef', 'chefs', 'cherry', 'chew', 'chewy', 'chic', 'chicago', 'chick', 'chicken', 'child', 'childhood', 'children', 'chile', 'chili', 'chill', 'chilled', 'chilli', 'chilly', 'china', 'chinatown', 'chinese', 'chip', 'chipotle', 'chips', 'chocolate', 'chocolates', 'choice', 'choices', 'choose', 'choosing', 'chop', 'chopped', 'chops', 'chorizo', 'chose', 'chosen', 'chow', 'chowder', 'chris', 'christmas', 'chunk', 'chunks', 'church', 'cider', 'cigar', 'cigarette', 'cilantro', 'cinnamon', 'circle', 'circus', 'cirque', 'cities', 'citrus', 'city', 'claim', 'claimed', 'claims', 'clam', 'clams', 'class', 'classes', 'classic', 'classy', 'clean', 'cleaned', 'cleaner', 'cleaners', 'cleaning', 'cleanliness', 'clear', 'cleared', 'clearly', 'clerk', 'cleveland', 'client', 'clientele', 'clients', 'clinic', 'clock', 'close', 'closed', 'closer', 'closes', 'closest', 'closet', 'closing', 'clothes', 'clothing', 'club', 'clubs', 'clue', 'coast', 'coat', 'coated', 'cocktail', 'cocktails', 'coconut', 'cod', 'code', 'coffee', 'coffees', 'coke', 'cold', 'cole', 'coleslaw', 'colleagues', 'collection', 'college', 'color', 'colored', 'colorful', 'colors', 'colour', 'com', 'combination', 'combinations', 'combined', 'combo', 'combos', 'come', 'comedy', 'comes', 'comfort', 'comfortable', 'comforting', 'comfy', 'coming', 'comment', 'commented', 'comments', 'commercial', 'common', 'communicate', 'communication', 'community', 'comp', 'companies', 'companion', 'company', 'comparable', 'compare', 'compared', 'comparing', 'comparison', 'comped', 'competent', 'competition', 'competitive', 'complain', 'complained', 'complaining', 'complaint', 'complaints', 'complete', 'completed', 'completely', 'complex', 'complicated', 'compliment', 'complimentary', 'complimented', 'compliments', 'computer', 'concept', 'concern', 'concerned', 'concerns', 'concert', 'concierge', 'conclusion', 'condescending', 'condiments', 'condition', 'conditioner', 'conditioning', 'cone', 'conference', 'confidence', 'confident', 'confirm', 'confirmation', 'confirmed', 'confit', 'confused', 'confusing', 'confusion', 'congee', 'connected', 'connection', 'cons', 'consider', 'considered', 'considering', 'consisted', 'consistency', 'consistent', 'consistently', 'consists', 'constant', 'constantly', 'construction', 'consultation', 'contact', 'contacted', 'contained', 'container', 'containers', 'contemporary', 'content', 'continue', 'continued', 'continues', 'contract', 'control', 'convenience', 'convenient', 'conveniently', 'convention', 'conversation', 'conversations', 'convinced', 'cook', 'cooked', 'cookie', 'cookies', 'cooking', 'cooks', 'cool', 'cooler', 'copy', 'core', 'corn', 'cornbread', 'corned', 'corner', 'corners', 'corporate', 'correct', 'corrected', 'correctly', 'cosmo', 'cosmopolitan', 'cost', 'costco', 'costs', 'cotton', 'couch', 'couches', 'couldn', 'count', 'counter', 'countless', 'country', 'county', 'couple', 'couples', 'coupon', 'coupons', 'course', 'courses', 'court', 'courteous', 'courtesy', 'cousin', 'cover', 'covered', 'covers', 'cow', 'coworker', 'coworkers', 'cozy', 'cr', 'crab', 'crack', 'cracked', 'cracker', 'crackers', 'craft', 'crafted', 'cramped', 'cranberry', 'crap', 'crappy', 'crave', 'craving', 'cravings', 'crawfish', 'crazy', 'cream', 'creamed', 'creamy', 'create', 'created', 'creating', 'creative', 'credit', 'creek', 'creepy', 'creme', 'crepe', 'crepes', 'crew', 'crisp', 'crispy', 'croissant', 'croissants', 'cross', 'crowd', 'crowded', 'crowds', 'crown', 'crumbs', 'crunch', 'crunchy', 'crushed', 'crust', 'crusted', 'crying', 'crystal', 'cuban', 'cucumber', 'cucumbers', 'cuisine', 'culinary', 'culture', 'cup', 'cupcake', 'cupcakes', 'cups', 'curds', 'curious', 'curly', 'current', 'currently', 'curries', 'curry', 'custard', 'custom', 'customer', 'customers', 'customize', 'cut', 'cute', 'cuts', 'cutting', 'cuz', 'da', 'dad', 'daily', 'dairy', 'damage', 'damaged', 'damn', 'dan', 'dance', 'dancers', 'dancing', 'dang', 'dangerous', 'daniel', 'dans', 'dare', 'dark', 'darn', 'date', 'dated', 'dates', 'daughter', 'daughters', 'dave', 'david', 'day', 'days', 'dead', 'deal', 'dealer', 'dealers', 'dealership', 'dealing', 'deals', 'dealt', 'dear', 'death', 'debit', 'decadent', 'december', 'decent', 'decently', 'decide', 'decided', 'deciding', 'decision', 'deck', 'declined', 'decor', 'decorated', 'decorations', 'dedicated', 'deep', 'def', 'defiantly', 'definately', 'definite', 'definitely', 'degree', 'degrees', 'del', 'delay', 'delayed', 'delectable', 'deli', 'delicate', 'delicious', 'deliciously', 'deliciousness', 'delight', 'delighted', 'delightful', 'delish', 'deliver', 'delivered', 'delivering', 'delivers', 'delivery', 'deluxe', 'demand', 'denied', 'denny', 'dense', 'dental', 'dente', 'dentist', 'department', 'depending', 'depends', 'deposit', 'depot', 'depth', 'des', 'described', 'description', 'desert', 'deserts', 'deserve', 'deserved', 'deserves', 'design', 'designed', 'designer', 'designs', 'desire', 'desired', 'desk', 'desperate', 'despite', 'dessert', 'desserts', 'destination', 'detailed', 'details', 'devoured', 'di', 'diamond', 'did', 'didn', 'didnt', 'die', 'died', 'diego', 'diet', 'difference', 'different', 'differently', 'difficult', 'dig', 'dim', 'dime', 'dine', 'dined', 'diner', 'diners', 'dining', 'dinner', 'dinners', 'dinning', 'dip', 'dipped', 'dipping', 'direct', 'directed', 'direction', 'directions', 'directly', 'dirt', 'dirty', 'disappeared', 'disappoint', 'disappointed', 'disappointing', 'disappointment', 'disappoints', 'disaster', 'discount', 'discounted', 'discounts', 'discover', 'discovered', 'discuss', 'discussed', 'disgusted', 'disgusting', 'dish', 'dishes', 'dislike', 'disorganized', 'display', 'displayed', 'disrespectful', 'distance', 'district', 'dive', 'diverse', 'divine', 'dj', 'doctor', 'doctors', 'does', 'doesn', 'doesnt', 'dog', 'dogs', 'doing', 'dollar', 'dollars', 'don', 'dont', 'donut', 'donuts', 'door', 'doors', 'double', 'doubt', 'dough', 'doughnut', 'doughnuts', 'doughy', 'downfall', 'downhill', 'downside', 'downstairs', 'downtown', 'dozen', 'dr', 'draft', 'dragon', 'drain', 'drank', 'draw', 'dream', 'dreams', 'drenched', 'dress', 'dressed', 'dresses', 'dressing', 'dried', 'drink', 'drinker', 'drinking', 'drinks', 'dripping', 'drive', 'driven', 'driver', 'drivers', 'driving', 'drizzled', 'drop', 'dropped', 'dropping', 'drove', 'drunk', 'drunken', 'dry', 'dryer', 'du', 'duck', 'dude', 'dumb', 'dump', 'dumpling', 'dumplings', 'dust', 'duty', 'dying', 'eager', 'ear', 'earl', 'earlier', 'early', 'earn', 'earned', 'ears', 'earth', 'ease', 'easier', 'easily', 'east', 'eastern', 'easy', 'eat', 'eaten', 'eater', 'eaters', 'eatery', 'eating', 'eats', 'eclectic', 'ed', 'edamame', 'edge', 'edges', 'edible', 'eel', 'effect', 'efficient', 'efficiently', 'effort', 'egg', 'eggplant', 'eggs', 'eh', 'el', 'electric', 'elegant', 'elevator', 'elevators', 'elite', 'em', 'email', 'emailed', 'emails', 'embarrassed', 'emergency', 'empanadas', 'employee', 'employees', 'en', 'enchilada', 'enchiladas', 'encore', 'encounter', 'encountered', 'encourage', 'end', 'ended', 'ending', 'endless', 'ends', 'energetic', 'energy', 'engaging', 'engine', 'english', 'enjoy', 'enjoyable', 'enjoyed', 'enjoying', 'enjoys', 'enormous', 'ensure', 'enter', 'entered', 'entering', 'entertained', 'entertaining', 'entertainment', 'enthusiastic', 'entire', 'entirely', 'entr', 'entrance', 'entree', 'entrees', 'entry', 'environment', 'epic', 'equal', 'equally', 'equipment', 'er', 'eric', 'error', 'escape', 'especially', 'espresso', 'essentially', 'est', 'establishment', 'establishments', 'estimate', 'et', 'european', 'eve', 'evening', 'evenings', 'event', 'events', 'eventually', 'everybody', 'everyday', 'everytime', 'ew', 'ex', 'exact', 'exactly', 'exam', 'example', 'exceeded', 'excellent', 'exception', 'exceptional', 'exceptionally', 'exchange', 'excited', 'excitement', 'exciting', 'excuse', 'excuses', 'executed', 'execution', 'exercise', 'exhibit', 'exhibits', 'exist', 'existent', 'exit', 'exotic', 'expect', 'expectation', 'expectations', 'expected', 'expecting', 'expensive', 'experience', 'experienced', 'experiences', 'experiencing', 'expert', 'expired', 'explain', 'explained', 'explaining', 'explains', 'explanation', 'explore', 'express', 'exquisite', 'extended', 'extensions', 'extensive', 'exterior', 'extra', 'extraordinary', 'extras', 'extreme', 'extremely', 'eye', 'eyebrow', 'eyebrows', 'eyes', 'fabulous', 'face', 'facebook', 'faces', 'facial', 'facilities', 'facility', 'facing', 'fact', 'factor', 'factory', 'fail', 'failed', 'fair', 'fairly', 'fajitas', 'fake', 'falafel', 'fall', 'falling', 'falls', 'false', 'familiar', 'families', 'family', 'famous', 'fan', 'fancy', 'fans', 'fantastic', 'far', 'fare', 'farm', 'fashion', 'fashioned', 'fast', 'faster', 'fat', 'father', 'fatty', 'fault', 'fav', 'fave', 'favor', 'favorite', 'favorites', 'favourite', 'fear', 'feast', 'feature', 'featured', 'features', 'february', 'fed', 'fee', 'feed', 'feedback', 'feel', 'feeling', 'feelings', 'feels', 'fees', 'feet', 'fell', 'fellow', 'felt', 'female', 'festival', 'feta', 'fi', 'fianc', 'fiance', 'field', 'fig', 'fight', 'figure', 'figured', 'file', 'filet', 'filipino', 'filled', 'filling', 'fillings', 'fills', 'film', 'filter', 'filthy', 'final', 'finally', 'finance', 'financial', 'finding', 'fine', 'finest', 'finger', 'fingers', 'finish', 'finished', 'finishing', 'fired', 'fireplace', 'firm', 'fish', 'fishy', 'fit', 'fitness', 'fits', 'fitting', 'fix', 'fixed', 'fixing', 'flag', 'flakes', 'flaky', 'flamingo', 'flan', 'flat', 'flatbread', 'flavor', 'flavored', 'flavorful', 'flavorless', 'flavors', 'flavour', 'flavourful', 'flavours', 'flawless', 'flew', 'flexible', 'flies', 'flight', 'flights', 'flip', 'floating', 'floor', 'flooring', 'floors', 'flour', 'flow', 'flower', 'flowers', 'fluffy', 'fly', 'flying', 'foam', 'focus', 'focused', 'foie', 'folks', 'follow', 'followed', 'following', 'fond', 'fondue', 'food', 'foodie', 'foods', 'fool', 'fooled', 'foot', 'football', 'force', 'forced', 'ford', 'forever', 'forget', 'forgot', 'forgotten', 'fork', 'form', 'forth', 'fortunate', 'fortunately', 'fortune', 'forward', 'fountain', 'fountains', 'fourth', 'fox', 'frame', 'frames', 'franchise', 'francisco', 'frank', 'frankly', 'freakin', 'freaking', 'free', 'freezer', 'freezing', 'fremont', 'french', 'frequent', 'frequently', 'fresh', 'freshest', 'freshly', 'freshness', 'friday', 'fridays', 'fridge', 'fried', 'friend', 'friendliest', 'friendliness', 'friendly', 'friends', 'fries', 'frills', 'frites', 'frosting', 'frozen', 'fruit', 'fruits', 'fruity', 'frustrated', 'frustrating', 'frustration', 'fry', 'fuck', 'fucking', 'fudge', 'fuel', 'fully', 'fun', 'funky', 'funny', 'furniture', 'fusion', 'fuss', 'future', 'fyi', 'gal', 'gallo', 'gamble', 'gambling', 'game', 'games', 'gaming', 'garage', 'garbage', 'garden', 'garlic', 'gas', 'gate', 'gave', 'gear', 'gel', 'gelato', 'gem', 'general', 'generally', 'generic', 'generous', 'genius', 'gentle', 'gentleman', 'gentlemen', 'genuine', 'genuinely', 'george', 'german', 'gets', 'getting', 'gf', 'ghetto', 'giant', 'gift', 'gifts', 'gigantic', 'gilbert', 'gin', 'ginger', 'girl', 'girlfriend', 'girlfriends', 'girls', 'given', 'gives', 'giving', 'glad', 'gladly', 'glance', 'glass', 'glasses', 'glaze', 'glazed', 'glendale', 'gloves', 'gluten', 'gm', 'gnocchi', 'goat', 'god', 'goes', 'going', 'gold', 'golden', 'golf', 'gone', 'gonna', 'good', 'goodies', 'goodness', 'goods', 'gooey', 'google', 'gordon', 'gorgeous', 'got', 'gotta', 'gotten', 'gourmet', 'grab', 'grabbed', 'grabbing', 'grace', 'gracious', 'grade', 'grain', 'grand', 'grandma', 'granted', 'grape', 'gras', 'grass', 'grateful', 'gratuity', 'gravy', 'grease', 'greasy', 'great', 'greatest', 'greatly', 'greek', 'green', 'greens', 'greet', 'greeted', 'greeting', 'grew', 'grey', 'grill', 'grilled', 'gripe', 'grits', 'groceries', 'grocery', 'groomer', 'grooming', 'gross', 'ground', 'grounds', 'group', 'groupon', 'groups', 'grow', 'growing', 'grown', 'grub', 'gta', 'guac', 'guacamole', 'guarantee', 'guaranteed', 'guard', 'guess', 'guessing', 'guest', 'guests', 'guide', 'guilty', 'gumbo', 'gun', 'guy', 'guys', 'gym', 'gyoza', 'gyro', 'gyros', 'ha', 'hadn', 'haha', 'hair', 'haircut', 'half', 'halfway', 'halibut', 'hall', 'hallway', 'ham', 'hamburger', 'hand', 'handed', 'handful', 'handle', 'handled', 'handling', 'hands', 'hang', 'hanging', 'hangout', 'hangover', 'happen', 'happened', 'happening', 'happens', 'happier', 'happily', 'happy', 'hard', 'harder', 'hardly', 'hash', 'hasn', 'hassle', 'hat', 'hate', 'hated', 'haven', 'having', 'hawaii', 'hawaiian', 'hazelnut', 'head', 'headache', 'headed', 'heading', 'heads', 'health', 'healthier', 'healthy', 'hear', 'heard', 'hearing', 'heart', 'hearty', 'heat', 'heated', 'heater', 'heaven', 'heavenly', 'heavily', 'heavy', 'heck', 'heels', 'held', 'hell', 'hello', 'help', 'helped', 'helpful', 'helping', 'helps', 'henderson', 'herb', 'herbs', 'hesitant', 'hesitate', 'hesitation', 'hey', 'hh', 'hi', 'hibachi', 'hidden', 'hide', 'high', 'higher', 'highest', 'highlight', 'highlights', 'highly', 'highway', 'hike', 'hilarious', 'hill', 'hills', 'hilton', 'hint', 'hip', 'hipster', 'hire', 'hired', 'history', 'hit', 'hits', 'hitting', 'hk', 'hockey', 'hold', 'holding', 'holds', 'hole', 'holes', 'holiday', 'holidays', 'hollandaise', 'hollywood', 'holy', 'home', 'homemade', 'homey', 'honda', 'honest', 'honestly', 'honesty', 'honey', 'hong', 'honor', 'hood', 'hook', 'hookah', 'hooked', 'hop', 'hope', 'hoped', 'hopefully', 'hopes', 'hoping', 'horchata', 'horrendous', 'horrible', 'horribly', 'horse', 'horseradish', 'hospital', 'hospitality', 'host', 'hostess', 'hostesses', 'hosts', 'hot', 'hotel', 'hotels', 'hour', 'hours', 'house', 'housekeeping', 'houses', 'hr', 'hrs', 'http', 'hubby', 'huge', 'human', 'humble', 'hummus', 'humor', 'hundreds', 'hung', 'hungry', 'hunt', 'hurry', 'hurt', 'husband', 'husbands', 'hush', 'hut', 'hype', 'ice', 'iced', 'icing', 'id', 'idea', 'ideal', 'ideas', 'idiot', 'ignore', 'ignored', 'ihop', 'il', 'ill', 'im', 'imagine', 'immediate', 'immediately', 'imo', 'impeccable', 'important', 'importantly', 'impossible', 'impress', 'impressed', 'impression', 'impressive', 'improve', 'improved', 'improvement', 'inch', 'inches', 'incident', 'include', 'included', 'includes', 'including', 'incompetent', 'inconsistent', 'inconvenience', 'incorrect', 'increase', 'incredible', 'incredibly', 'india', 'indian', 'indicated', 'individual', 'indoor', 'indulge', 'industrial', 'industry', 'inedible', 'inexpensive', 'info', 'inform', 'information', 'informative', 'informed', 'infused', 'ingredient', 'ingredients', 'initial', 'initially', 'injury', 'inn', 'inquired', 'ins', 'insane', 'insanely', 'inside', 'insisted', 'inspection', 'inspired', 'instagram', 'install', 'installation', 'installed', 'instant', 'instantly', 'instead', 'instructions', 'instructor', 'instructors', 'insurance', 'integrity', 'intended', 'intense', 'interaction', 'interested', 'interesting', 'interior', 'international', 'internet', 'intimate', 'introduced', 'inventory', 'invited', 'inviting', 'involved', 'ipa', 'ipad', 'iphone', 'irish', 'iron', 'irritated', 'ish', 'island', 'isn', 'issue', 'issues', 'italian', 'italy', 'item', 'items', 'ive', 'jack', 'jacket', 'jacuzzi', 'jalape', 'jalapeno', 'jalapenos', 'jam', 'james', 'january', 'japan', 'japanese', 'jar', 'jasmine', 'jason', 'jazz', 'je', 'jeans', 'jeep', 'jeff', 'jelly', 'jennifer', 'jerk', 'jersey', 'jessica', 'jewelry', 'jim', 'jimmy', 'job', 'jobs', 'joe', 'john', 'johnny', 'join', 'joined', 'joint', 'joints', 'joke', 'jokes', 'jose', 'josh', 'journey', 'joy', 'judge', 'juice', 'juices', 'juicy', 'july', 'jumbo', 'jump', 'jumped', 'june', 'junk', 'jus', 'just', 'justify', 'justin', 'kabob', 'kalbi', 'kale', 'karaoke', 'katsu', 'keeping', 'keeps', 'kelly', 'kept', 'ketchup', 'kevin', 'key', 'keys', 'kick', 'kicked', 'kid', 'kidding', 'kids', 'kill', 'killed', 'killer', 'kim', 'kimchi', 'kind', 'kinda', 'kindly', 'kindness', 'kinds', 'king', 'kinks', 'kitchen', 'knew', 'knife', 'knock', 'knocked', 'knots', 'know', 'knowing', 'knowledgable', 'knowledge', 'knowledgeable', 'known', 'knows', 'kobe', 'kong', 'korean', 'kudos', 'kung', 'la', 'lab', 'labor', 'lack', 'lacked', 'lacking', 'lackluster', 'lacks', 'ladies', 'lady', 'laid', 'lake', 'lamb', 'lame', 'lamp', 'land', 'lane', 'lanes', 'language', 'lap', 'laptop', 'large', 'larger', 'largest', 'las', 'lasagna', 'laser', 'lash', 'lashes', 'lasted', 'lastly', 'late', 'lately', 'later', 'latest', 'latte', 'lattes', 'laugh', 'laughed', 'laughing', 'laundry', 'lavender', 'law', 'lay', 'layer', 'layers', 'layout', 'lazy', 'lb', 'le', 'lead', 'leaf', 'leak', 'leaking', 'lean', 'learn', 'learned', 'learning', 'lease', 'leather', 'leave', 'leaves', 'leaving', 'led', 'lee', 'left', 'leftover', 'leftovers', 'leg', 'legit', 'legs', 'lemon', 'lemonade', 'length', 'les', 'lesson', 'let', 'lets', 'letter', 'letting', 'lettuce', 'level', 'levels', 'library', 'license', 'lie', 'lied', 'lies', 'life', 'lifetime', 'lift', 'light', 'lighter', 'lighting', 'lightly', 'lights', 'like', 'liked', 'likely', 'likes', 'liking', 'lil', 'lime', 'limit', 'limited', 'limo', 'line', 'lined', 'lines', 'link', 'liquid', 'liquor', 'lisa', 'list', 'listed', 'listen', 'listened', 'listening', 'lit', 'literally', 'little', 'live', 'lived', 'lively', 'liver', 'lives', 'living', 'll', 'lo', 'load', 'loaded', 'loaf', 'loan', 'lobby', 'lobster', 'local', 'locally', 'locals', 'located', 'location', 'locations', 'lock', 'locked', 'locker', 'lol', 'long', 'longer', 'look', 'looked', 'looking', 'looks', 'loose', 'los', 'lose', 'losing', 'loss', 'lost', 'lot', 'lots', 'loud', 'loudly', 'lounge', 'lousy', 'love', 'loved', 'lovely', 'lover', 'lovers', 'loves', 'loving', 'low', 'lower', 'loyal', 'loyalty', 'luck', 'luckily', 'lucky', 'luggage', 'luke', 'lukewarm', 'lunch', 'lunches', 'lunchtime', 'luxor', 'luxurious', 'luxury', 'lv', 'lychee', 'lying', 'ma', 'mac', 'macaroni', 'macarons', 'macaroons', 'machine', 'machines', 'mad', 'madison', 'magic', 'magical', 'mahi', 'mai', 'mail', 'main', 'mainly', 'mains', 'maintain', 'maintained', 'maintenance', 'mais', 'major', 'majority', 'make', 'maker', 'makes', 'makeup', 'maki', 'making', 'male', 'mall', 'mama', 'man', 'manage', 'managed', 'management', 'manager', 'managers', 'mandalay', 'mandarin', 'manger', 'mango', 'mani', 'manicure', 'manner', 'maple', 'march', 'margarita', 'margaritas', 'margherita', 'marinara', 'marinated', 'mark', 'marked', 'market', 'markham', 'marks', 'marquee', 'married', 'marriott', 'marrow', 'mart', 'martini', 'martinis', 'mary', 'masala', 'mash', 'mashed', 'massage', 'massages', 'massive', 'master', 'match', 'matcha', 'matched', 'matt', 'matter', 'matters', 'mattress', 'max', 'maybe', 'mayo', 'mcdonald', 'mcdonalds', 'meal', 'meals', 'mean', 'meaning', 'means', 'meant', 'meat', 'meatball', 'meatballs', 'meatloaf', 'meats', 'meaty', 'mechanic', 'mechanics', 'med', 'media', 'medical', 'medication', 'medicine', 'mediocre', 'mediterranean', 'medium', 'meet', 'meeting', 'meets', 'meh', 'mein', 'melt', 'melted', 'melts', 'member', 'members', 'membership', 'memorable', 'memories', 'memory', 'men', 'mention', 'mentioned', 'mentioning', 'menu', 'menus', 'merchandise', 'mesa', 'mess', 'message', 'messages', 'messed', 'messy', 'met', 'metal', 'metro', 'mex', 'mexican', 'mexico', 'mgm', 'mi', 'michael', 'michelle', 'microwave', 'mid', 'middle', 'midnight', 'mignon', 'mike', 'mild', 'mile', 'miles', 'military', 'milk', 'milkshake', 'milkshakes', 'million', 'mimosa', 'mimosas', 'min', 'mind', 'mini', 'minimal', 'minimum', 'minor', 'mins', 'mint', 'minus', 'minute', 'minutes', 'miracle', 'mirage', 'mirror', 'miserable', 'miso', 'miss', 'missed', 'missing', 'mission', 'mississauga', 'mistake', 'mistakes', 'mix', 'mixed', 'mixture', 'mmm', 'mobile', 'mocha', 'mochi', 'model', 'modern', 'moist', 'mojito', 'mold', 'mole', 'mom', 'moment', 'moments', 'mon', 'monday', 'money', 'mongolian', 'monster', 'monte', 'month', 'monthly', 'months', 'montreal', 'mood', 'moon', 'morning', 'mornings', 'motel', 'mother', 'mountain', 'mousse', 'mouth', 'moved', 'movers', 'moves', 'movie', 'movies', 'moving', 'mozzarella', 'mr', 'msg', 'muffin', 'muffins', 'multi', 'multiple', 'museum', 'mushroom', 'mushrooms', 'mushy', 'music', 'mussels', 'mustard', 'n1', 'n2', 'n3', 'n4', 'n5', 'n6', 'na', 'naan', 'nacho', 'nachos', 'nafter', 'nail', 'nails', 'naked', 'nall', 'nalso', 'nalthough', 'nambiance', 'named', 'names', 'nand', 'nanother', 'nanyway', 'nanyways', 'napkin', 'napkins', 'narrow', 'nas', 'nasty', 'nat', 'national', 'native', 'natmosphere', 'natural', 'naturally', 'nature', 'navigate', 'nbe', 'nbest', 'nboth', 'nbottom', 'nbut', 'nby', 'nc', 'ncame', 'ncan', 'ncheck', 'nchicken', 'ncons', 'ndefinitely', 'ndessert', 'ndo', 'ndon', 'ndrinks', 'ne', 'near', 'nearby', 'nearly', 'neat', 'necessarily', 'necessary', 'neck', 'need', 'needed', 'needing', 'needless', 'needs', 'negative', 'neighbor', 'neighborhood', 'neighbors', 'neighbourhood', 'nerve', 'nervous', 'network', 'nevada', 'neven', 'nevery', 'neveryone', 'neverything', 'new', 'newer', 'newly', 'news', 'nfinally', 'nfirst', 'nfood', 'nfor', 'nfrom', 'ngo', 'ngood', 'ngot', 'ngreat', 'nhad', 'nhe', 'nhere', 'nhighly', 'nhowever', 'nhttp', 'ni', 'nice', 'nicely', 'nicer', 'nicest', 'nick', 'nif', 'night', 'nightclub', 'nightmare', 'nights', 'nigiri', 'nin', 'nit', 'nits', 'njust', 'nlast', 'nlastly', 'nlet', 'nlike', 'nlove', 'nmaybe', 'nme', 'nmost', 'nmy', 'nnever', 'nnext', 'nnice', 'nno', 'nnot', 'nnote', 'nnow', 'nof', 'noh', 'noise', 'noisy', 'nok', 'nom', 'non', 'nonce', 'nonetheless', 'nonly', 'noodle', 'noodles', 'noon', 'nope', 'nordered', 'norm', 'normal', 'normally', 'north', 'northern', 'nose', 'notch', 'note', 'noted', 'notes', 'nother', 'notice', 'noticed', 'nour', 'nous', 'november', 'noverall', 'np', 'nparking', 'nplease', 'nprice', 'nprices', 'npros', 'nps', 'nreally', 'nsecond', 'nservice', 'nshe', 'nsince', 'nso', 'nsome', 'nstaff', 'nthank', 'nthanks', 'nthat', 'nthe', 'ntheir', 'nthen', 'nthere', 'nthese', 'nthey', 'nthis', 'ntip', 'nto', 'ntoday', 'ntry', 'ntwo', 'nuggets', 'number', 'numbers', 'numerous', 'nunfortunately', 'nupdate', 'nupon', 'nurse', 'nurses', 'nut', 'nutella', 'nuts', 'nvery', 'nwas', 'nwe', 'nwell', 'nwent', 'nwhat', 'nwhen', 'nwhile', 'nwhy', 'nwill', 'nwith', 'nwould', 'ny', 'nyc', 'nyes', 'nyou', 'oatmeal', 'obnoxious', 'obsessed', 'obvious', 'obviously', 'occasion', 'occasional', 'occasionally', 'occasions', 'occupied', 'october', 'octopus', 'odd', 'oddly', 'offer', 'offered', 'offering', 'offerings', 'offers', 'office', 'offices', 'oh', 'ohio', 'oil', 'oily', 'ok', 'okay', 'okra', 'ol', 'old', 'older', 'olive', 'olives', 'omelet', 'omelette', 'omg', 'ones', 'onion', 'onions', 'online', 'open', 'opened', 'opening', 'opens', 'operated', 'operation', 'opinion', 'opportunity', 'opposed', 'opposite', 'opt', 'opted', 'option', 'options', 'orange', 'order', 'ordered', 'ordering', 'orders', 'ordinary', 'oreo', 'organic', 'organization', 'organized', 'oriented', 'original', 'originally', 'orleans', 'ounce', 'outdated', 'outdoor', 'outdoors', 'outlet', 'outlets', 'outrageous', 'outside', 'outstanding', 'oven', 'overall', 'overcooked', 'overdone', 'overlooking', 'overly', 'overnight', 'overpowering', 'overpriced', 'overrated', 'overwhelmed', 'overwhelming', 'owned', 'owner', 'owners', 'ownership', 'owns', 'oxtail', 'oyster', 'oysters', 'oz', 'pa', 'pace', 'pack', 'package', 'packaged', 'packages', 'packed', 'pad', 'paella', 'page', 'paid', 'pain', 'painful', 'painless', 'paint', 'painted', 'painting', 'pair', 'paired', 'pairing', 'palace', 'palate', 'palazzo', 'palm', 'palms', 'pan', 'panang', 'pancake', 'pancakes', 'panda', 'paneer', 'panera', 'panini', 'pants', 'pao', 'papaya', 'paper', 'paperwork', 'par', 'paradise', 'parents', 'paris', 'park', 'parked', 'parking', 'parm', 'parmesan', 'particular', 'particularly', 'parties', 'partner', 'parts', 'party', 'pas', 'pass', 'passed', 'passes', 'passing', 'passion', 'passionate', 'past', 'pasta', 'pastas', 'paste', 'pastor', 'pastrami', 'pastries', 'pastry', 'pasty', 'path', 'pathetic', 'patience', 'patient', 'patiently', 'patients', 'patio', 'patron', 'patrons', 'patties', 'patty', 'paul', 'pay', 'paying', 'payment', 'peace', 'peaceful', 'peach', 'peak', 'peanut', 'peanuts', 'pear', 'peas', 'pecan', 'pedi', 'pedicure', 'pedicures', 'penne', 'penny', 'people', 'pepper', 'pepperoni', 'peppers', 'perfect', 'perfection', 'perfectly', 'perform', 'performance', 'performed', 'performers', 'period', 'person', 'personable', 'personal', 'personality', 'personally', 'pesto', 'pet', 'petite', 'pets', 'pharmacy', 'phenomenal', 'philly', 'pho', 'phoenix', 'phone', 'phones', 'photo', 'photos', 'phx', 'physical', 'piano', 'pic', 'pick', 'picked', 'picking', 'pickle', 'pickled', 'pickles', 'pickup', 'picky', 'picnic', 'pico', 'pics', 'picture', 'pictures', 'pie', 'piece', 'pieces', 'pies', 'pig', 'pile', 'piled', 'pillows', 'pineapple', 'pink', 'pint', 'piping', 'pissed', 'pistachio', 'pit', 'pita', 'pitcher', 'pittsburgh', 'pizza', 'pizzas', 'pizzeria', 'place', 'placed', 'places', 'placing', 'plain', 'plan', 'plane', 'planet', 'planned', 'planning', 'plans', 'plant', 'plants', 'plastic', 'plate', 'plates', 'platter', 'play', 'played', 'player', 'players', 'playing', 'plays', 'plaza', 'pleasant', 'pleasantly', 'pleased', 'pleasing', 'pleasure', 'plentiful', 'plenty', 'plumbing', 'plus', 'pm', 'po', 'poached', 'pocket', 'point', 'pointed', 'points', 'poisoning', 'poke', 'poker', 'polenta', 'police', 'policy', 'polish', 'polite', 'politely', 'pollo', 'pool', 'pools', 'poor', 'poorly', 'pop', 'popcorn', 'popped', 'popping', 'pops', 'popular', 'pork', 'port', 'portion', 'portions', 'position', 'positive', 'possible', 'possibly', 'post', 'posted', 'posting', 'pot', 'potato', 'potatoes', 'potential', 'pound', 'pounds', 'pour', 'poured', 'poutine', 'powder', 'power', 'ppl', 'practically', 'practice', 'practices', 'prawns', 'pre', 'prefer', 'preference', 'preferred', 'pregnant', 'premium', 'prep', 'preparation', 'prepare', 'prepared', 'preparing', 'prescription', 'presence', 'present', 'presentation', 'presented', 'press', 'pressed', 'pressure', 'pretentious', 'pretty', 'pretzel', 'pretzels', 'previous', 'previously', 'price', 'priced', 'prices', 'pricey', 'pricier', 'pricing', 'pricy', 'pride', 'primary', 'prime', 'print', 'printed', 'prior', 'priority', 'privacy', 'private', 'prix', 'pro', 'probably', 'problem', 'problems', 'procedure', 'procedures', 'proceeded', 'process', 'processed', 'produce', 'product', 'products', 'professional', 'professionalism', 'professionally', 'professionals', 'program', 'project', 'promise', 'promised', 'promotion', 'prompt', 'promptly', 'proof', 'proper', 'properly', 'properties', 'property', 'props', 'pros', 'prosciutto', 'protein', 'proud', 'prove', 'provide', 'provided', 'provides', 'providing', 'proximity', 'pub', 'public', 'pudding', 'puff', 'puffs', 'pull', 'pulled', 'pulling', 'pump', 'pumpkin', 'punch', 'pup', 'puppies', 'puppy', 'purchase', 'purchased', 'purchases', 'purchasing', 'pure', 'puree', 'purple', 'purpose', 'purse', 'push', 'pushed', 'pushing', 'pushy', 'puts', 'putting', 'qu', 'quaint', 'quality', 'quantity', 'quarter', 'que', 'queen', 'quesadilla', 'quesadillas', 'queso', 'question', 'questioned', 'questions', 'qui', 'quiche', 'quick', 'quicker', 'quickly', 'quiet', 'quinoa', 'quit', 'quite', 'quote', 'quoted', 'quotes', 'race', 'rack', 'radio', 'rail', 'rain', 'rainbow', 'raise', 'raised', 'ramen', 'ramsay', 'ran', 'ranch', 'random', 'randomly', 'rang', 'range', 'ranging', 'rare', 'rarely', 'raspberry', 'rate', 'rated', 'rates', 'rating', 'ratings', 'ratio', 'rave', 'raved', 'raving', 'ravioli', 'raw', 'ray', 'rays', 'rd', 'reach', 'reached', 'reaction', 'read', 'reading', 'ready', 'real', 'reality', 'realize', 'realized', 'really', 'rear', 'reason', 'reasonable', 'reasonably', 'reasons', 'recall', 'receipt', 'receive', 'received', 'receiving', 'recent', 'recently', 'reception', 'receptionist', 'recipe', 'recipes', 'recognize', 'recommend', 'recommendation', 'recommendations', 'recommended', 'recommending', 'record', 'records', 'red', 'refer', 'referred', 'refill', 'refilled', 'refills', 'refreshing', 'refried', 'refrigerator', 'refund', 'refunded', 'refuse', 'refused', 'regarding', 'regardless', 'regards', 'register', 'regret', 'regular', 'regularly', 'regulars', 'reheated', 'related', 'relationship', 'relatively', 'relax', 'relaxed', 'relaxing', 'reliable', 'relief', 'remaining', 'remains', 'remember', 'remembered', 'remind', 'reminded', 'reminds', 'remodel', 'remodeled', 'removal', 'remove', 'removed', 'renovated', 'rent', 'rental', 'rented', 'renting', 'rep', 'repair', 'repaired', 'repairs', 'repeat', 'repeated', 'repeatedly', 'replace', 'replaced', 'replacement', 'replacing', 'replied', 'reply', 'report', 'representative', 'reputation', 'request', 'requested', 'requests', 'require', 'required', 'reschedule', 'rescue', 'research', 'reservation', 'reservations', 'reserve', 'reserved', 'resident', 'residents', 'resist', 'resolve', 'resolved', 'resort', 'respect', 'respectful', 'respond', 'responded', 'response', 'responsibility', 'responsible', 'responsive', 'rest', 'restaurant', 'restaurants', 'resto', 'restroom', 'restrooms', 'result', 'results', 'retail', 'retro', 'return', 'returned', 'returning', 'reuben', 'review', 'reviewed', 'reviewer', 'reviewers', 'reviewing', 'reviews', 'rewards', 'rib', 'ribeye', 'ribs', 'rice', 'rich', 'ricotta', 'rid', 'ride', 'rides', 'ridiculous', 'ridiculously', 'riding', 'right', 'ring', 'rings', 'rio', 'rip', 'ripped', 'risk', 'risotto', 'river', 'road', 'roast', 'roasted', 'robert', 'rock', 'rocks', 'roll', 'rolled', 'roller', 'rolling', 'rolls', 'romantic', 'roof', 'rooftop', 'room', 'rooms', 'root', 'rose', 'rosemary', 'rotation', 'roti', 'rough', 'roughly', 'round', 'rounds', 'route', 'routine', 'row', 'royal', 'rub', 'rubbery', 'rude', 'rudely', 'ruin', 'ruined', 'rule', 'rules', 'rum', 'run', 'running', 'runny', 'runs', 'rush', 'rushed', 'rushing', 'rustic', 'ryan', 'rye', 'sad', 'sadly', 'safe', 'safety', 'sahara', 'said', 'sake', 'salad', 'salads', 'sale', 'sales', 'salesman', 'salmon', 'salon', 'salons', 'salsa', 'salsas', 'salt', 'salted', 'salty', 'sam', 'samosas', 'sample', 'sampled', 'sampler', 'samples', 'sampling', 'san', 'sand', 'sandwich', 'sandwiches', 'sangria', 'sans', 'sarah', 'sashimi', 'sat', 'satay', 'satisfaction', 'satisfied', 'satisfy', 'satisfying', 'saturday', 'saturdays', 'sauce', 'sauces', 'sauna', 'sausage', 'sausages', 'saut', 'sauteed', 'save', 'saved', 'saving', 'savory', 'saw', 'say', 'saying', 'says', 'scale', 'scallop', 'scallops', 'scam', 'scared', 'scary', 'scene', 'schedule', 'scheduled', 'scheduling', 'school', 'scoop', 'scoops', 'score', 'scott', 'scottsdale', 'scramble', 'scrambled', 'scratch', 'screaming', 'screen', 'screens', 'screw', 'screwed', 'scrumptious', 'se', 'sea', 'seafood', 'search', 'searched', 'searching', 'seared', 'season', 'seasonal', 'seasoned', 'seasoning', 'seat', 'seated', 'seating', 'seats', 'seaweed', 'second', 'seconds', 'secret', 'section', 'sections', 'security', 'seeds', 'seeing', 'seemingly', 'seen', 'select', 'selected', 'selection', 'selections', 'self', 'sell', 'selling', 'sells', 'semi', 'send', 'sending', 'senior', 'sense', 'sensitive', 'sent', 'separate', 'separately', 'september', 'seriously', 'serve', 'served', 'server', 'servers', 'serves', 'service', 'serviced', 'services', 'serving', 'servings', 'sesame', 'session', 'sessions', 'set', 'sets', 'setting', 'settle', 'settled', 'setup', 'seven', 'sexy', 'shack', 'shade', 'shady', 'shake', 'shakes', 'shall', 'shame', 'shampoo', 'shape', 'shaped', 'share', 'shared', 'sharing', 'sharp', 'shave', 'shaved', 'shawarma', 'sheet', 'sheets', 'shelf', 'shell', 'shells', 'shelves', 'shift', 'ship', 'shipping', 'shirt', 'shirts', 'shit', 'shitty', 'shock', 'shocked', 'shoe', 'shoes', 'shoot', 'shooting', 'shop', 'shopping', 'shops', 'short', 'shorter', 'shortly', 'shot', 'shots', 'shoulder', 'shoulders', 'shouldn', 'shout', 'showed', 'shower', 'showers', 'showing', 'shown', 'shows', 'shredded', 'shrimp', 'shrimps', 'shut', 'shuttle', 'shy', 'si', 'sick', 'sides', 'sigh', 'sight', 'sign', 'signage', 'signature', 'signed', 'significant', 'significantly', 'signing', 'signs', 'silly', 'silver', 'silverware', 'similar', 'simple', 'simply', 'sin', 'sing', 'singing', 'single', 'sink', 'sip', 'sirloin', 'sister', 'sit', 'site', 'sits', 'sitting', 'situation', 'size', 'sized', 'sizes', 'sizzling', 'skeptical', 'sketchy', 'skewer', 'skewers', 'skill', 'skilled', 'skillet', 'skills', 'skimp', 'skimpy', 'skin', 'skinny', 'skip', 'skipped', 'skirt', 'sky', 'slammed', 'slaw', 'sleep', 'sleeping', 'slice', 'sliced', 'slices', 'slide', 'sliders', 'slight', 'slightly', 'sloppy', 'slot', 'slots', 'slow', 'slower', 'slowly', 'small', 'smaller', 'smart', 'smell', 'smelled', 'smelling', 'smells', 'smile', 'smiled', 'smiles', 'smiling', 'smith', 'smoke', 'smoked', 'smokey', 'smoking', 'smoky', 'smooth', 'smoothie', 'smoothies', 'smoothly', 'smothered', 'snack', 'snacks', 'snob', 'snow', 'soak', 'soaked', 'soap', 'social', 'socks', 'soda', 'sodas', 'sofa', 'soft', 'soggy', 'sold', 'soleil', 'solely', 'solid', 'solo', 'solution', 'somebody', 'somewhat', 'son', 'song', 'songs', 'sons', 'sont', 'soo', 'soon', 'sooner', 'sooo', 'soooo', 'sooooo', 'sorbet', 'sorry', 'sort', 'sorts', 'soul', 'sound', 'sounded', 'sounds', 'soup', 'soups', 'sour', 'sourdough', 'south', 'southern', 'southwest', 'soy', 'spa', 'space', 'spaces', 'spacious', 'spaghetti', 'spanish', 'spare', 'sparkling', 'speak', 'speaking', 'speaks', 'special', 'specially', 'specials', 'specialty', 'specific', 'specifically', 'spectacular', 'speed', 'speedy', 'spend', 'spending', 'spent', 'spice', 'spiced', 'spices', 'spiciness', 'spicy', 'spilled', 'spin', 'spinach', 'spirit', 'spit', 'split', 'splurge', 'spoiled', 'spoke', 'spoken', 'spoon', 'sports', 'spot', 'spotless', 'spots', 'spray', 'spread', 'spring', 'springs', 'sprinkled', 'sprouts', 'square', 'squash', 'squeeze', 'squeezed', 'squid', 'sriracha', 'st', 'stack', 'stacked', 'stadium', 'staff', 'staffed', 'staffs', 'stage', 'stains', 'stairs', 'stale', 'stamp', 'stand', 'standard', 'standards', 'standing', 'stands', 'staple', 'staples', 'star', 'starbucks', 'stare', 'staring', 'stars', 'start', 'started', 'starter', 'starters', 'starting', 'starts', 'starving', 'state', 'stated', 'statement', 'states', 'stating', 'station', 'stations', 'status', 'stay', 'stayed', 'staying', 'stays', 'steak', 'steakhouse', 'steaks', 'steal', 'steam', 'steamed', 'steep', 'steer', 'stellar', 'step', 'stephanie', 'stepped', 'steps', 'steve', 'stew', 'stick', 'stickers', 'sticking', 'sticks', 'sticky', 'stingy', 'stir', 'stock', 'stocked', 'stole', 'stolen', 'stomach', 'stone', 'stood', 'stools', 'stop', 'stopped', 'stopping', 'stops', 'storage', 'store', 'stores', 'stories', 'story', 'straight', 'strange', 'straw', 'strawberries', 'strawberry', 'street', 'streets', 'stress', 'stressed', 'stressful', 'stretch', 'strike', 'strip', 'strips', 'strong', 'strongly', 'structure', 'stuck', 'student', 'students', 'studio', 'study', 'stuff', 'stuffed', 'stuffing', 'stumbled', 'stunning', 'stupid', 'style', 'styles', 'stylist', 'stylists', 'sub', 'subpar', 'subs', 'substitute', 'subtle', 'subway', 'success', 'successful', 'succulent', 'suck', 'sucked', 'sucker', 'sucks', 'suddenly', 'sugar', 'suggest', 'suggested', 'suggestion', 'suggestions', 'suit', 'suite', 'suites', 'suits', 'sum', 'summer', 'summerlin', 'sun', 'sundae', 'sunday', 'sundays', 'sunny', 'sunset', 'super', 'superb', 'superior', 'supermarket', 'supervisor', 'supplies', 'supply', 'support', 'supporting', 'suppose', 'supposed', 'supposedly', 'sur', 'sure', 'surely', 'surf', 'surgery', 'surprise', 'surprised', 'surprising', 'surprisingly', 'surrounded', 'surrounding', 'sushi', 'suspect', 'swear', 'sweat', 'sweet', 'sweeter', 'sweetness', 'sweets', 'swim', 'swimming', 'swing', 'swiss', 'switch', 'switched', 'syrup', 'tab', 'table', 'tables', 'tacky', 'taco', 'tacos', 'tad', 'tag', 'tail', 'taiwanese', 'taken', 'takeout', 'takes', 'taking', 'talent', 'talented', 'talk', 'talked', 'talking', 'tall', 'tamale', 'tamales', 'tan', 'tandoori', 'tangy', 'tank', 'tao', 'tap', 'tapas', 'tapioca', 'target', 'taro', 'tart', 'tartar', 'tartare', 'tarts', 'taste', 'tasted', 'tasteless', 'tastes', 'tasting', 'tasty', 'tater', 'tattoo', 'tattoos', 'tavern', 'tax', 'taxes', 'taxi', 'tea', 'teacher', 'teachers', 'team', 'tears', 'teas', 'tech', 'technician', 'technicians', 'techs', 'teeth', 'tell', 'telling', 'tells', 'temp', 'tempe', 'temperature', 'tempura', 'tend', 'tender', 'tenderloin', 'tenders', 'tends', 'tequila', 'teriyaki', 'term', 'terminal', 'terms', 'terrace', 'terrible', 'terribly', 'terrific', 'test', 'tests', 'texas', 'text', 'texture', 'textures', 'thai', 'thank', 'thanked', 'thankful', 'thankfully', 'thanks', 'thanksgiving', 'thats', 'theater', 'theaters', 'theatre', 'theirs', 'theme', 'themed', 'therapist', 'therapy', 'theres', 'thicker', 'thing', 'things', 'think', 'thinking', 'thinks', 'thinly', 'tho', 'thorough', 'thoroughly', 'thought', 'thoughtful', 'thoughts', 'thousand', 'thousands', 'threw', 'thrilled', 'throw', 'throwing', 'thrown', 'thumbs', 'thursday', 'ticket', 'tickets', 'tight', 'tikka', 'til', 'tile', 'till', 'tim', 'time', 'timely', 'times', 'timing', 'tint', 'tiny', 'tip', 'tipped', 'tips', 'tiramisu', 'tire', 'tired', 'tires', 'tissue', 'title', 'toast', 'toasted', 'today', 'toddler', 'toe', 'toes', 'toffee', 'tofu', 'toilet', 'told', 'tom', 'tomato', 'tomatoes', 'tomorrow', 'ton', 'tone', 'tongue', 'tonight', 'tons', 'tony', 'took', 'tools', 'tooth', 'topped', 'topping', 'toppings', 'tops', 'torn', 'toronto', 'tortilla', 'tortillas', 'tossed', 'total', 'totally', 'tots', 'touch', 'touched', 'tough', 'tour', 'tourist', 'tourists', 'tout', 'tow', 'towel', 'towels', 'tower', 'town', 'toyota', 'toys', 'tr', 'track', 'trade', 'trader', 'tradition', 'traditional', 'traffic', 'trail', 'train', 'trained', 'trainer', 'training', 'transaction', 'transferred', 'trash', 'travel', 'traveling', 'tray', 'trays', 'treasure', 'treat', 'treated', 'treating', 'treatment', 'treatments', 'treats', 'tree', 'trees', 'trek', 'trendy', 'trick', 'tricks', 'tried', 'tries', 'trim', 'trio', 'trip', 'triple', 'trips', 'tropical', 'trouble', 'trout', 'truck', 'trucks', 'true', 'truffle', 'truly', 'trust', 'trusted', 'truth', 'try', 'trying', 'tub', 'tucked', 'tuesday', 'tuesdays', 'tummy', 'tuna', 'tune', 'turf', 'turkey', 'turn', 'turned', 'turning', 'turns', 'tv', 'tvs', 'twice', 'twist', 'type', 'types', 'typical', 'typically', 'uber', 'udon', 'ugh', 'ugly', 'uh', 'ultimate', 'ultimately', 'ultra', 'um', 'unable', 'unacceptable', 'unbelievable', 'unbelievably', 'uncle', 'uncomfortable', 'undercooked', 'underneath', 'understaffed', 'understand', 'understandable', 'understanding', 'understood', 'underwhelmed', 'underwhelming', 'une', 'uneven', 'unexpected', 'unfortunate', 'unfortunately', 'unfriendly', 'unhappy', 'uni', 'union', 'unique', 'unit', 'units', 'university', 'unless', 'unlike', 'unlimited', 'unnecessary', 'unpleasant', 'unprofessional', 'unsure', 'unusual', 'upbeat', 'update', 'updated', 'updating', 'upfront', 'upgrade', 'upgraded', 'upper', 'ups', 'upscale', 'upset', 'upside', 'upstairs', 'uptown', 'ur', 'urban', 'urgent', 'use', 'used', 'uses', 'using', 'usual', 'usually', 'utensils', 'vacation', 'vacuum', 'valentine', 'valet', 'valley', 'value', 'van', 'vanilla', 'varied', 'varieties', 'variety', 'various', 'vast', 've', 'veal', 'veg', 'vegan', 'vegas', 'vegetable', 'vegetables', 'vegetarian', 'vegetarians', 'veggie', 'veggies', 'vehicle', 'vehicles', 'velvet', 'vendors', 'venetian', 'venture', 'venue', 'verde', 'vermicelli', 'version', 'versus', 'vet', 'vibe', 'vibes', 'video', 'videos', 'vietnamese', 'view', 'views', 'village', 'vinaigrette', 'vinegar', 'vintage', 'vip', 'visible', 'vision', 'visit', 'visited', 'visiting', 'visitors', 'visits', 'vodka', 'voice', 'voicemail', 'volume', 'voucher', 'vous', 'vs', 'waffle', 'waffles', 'wagyu', 'wait', 'waited', 'waiter', 'waiters', 'waiting', 'waitress', 'waitresses', 'waits', 'waitstaff', 'wake', 'walk', 'walked', 'walking', 'walks', 'wall', 'wallet', 'walls', 'walmart', 'walnut', 'wanna', 'want', 'wanted', 'wanting', 'wants', 'warehouse', 'warm', 'warmed', 'warmer', 'warmly', 'warn', 'warned', 'warning', 'warranty', 'wasabi', 'wash', 'washed', 'washer', 'washing', 'washroom', 'wasn', 'wasnt', 'waste', 'wasted', 'wasting', 'watch', 'watched', 'watching', 'water', 'watered', 'watering', 'watermelon', 'waters', 'watery', 'wave', 'wax', 'waxing', 'way', 'ways', 'weak', 'wear', 'wearing', 'weather', 'web', 'website', 'wedding', 'wedge', 'wednesday', 'week', 'weekday', 'weekdays', 'weekend', 'weekends', 'weekly', 'weeks', 'weight', 'weird', 'welcome', 'welcomed', 'welcoming', 'wendy', 'went', 'weren', 'west', 'western', 'wet', 'whatsoever', 'wheat', 'wheel', 'whim', 'whip', 'whipped', 'whiskey', 'white', 'wi', 'wicked', 'wide', 'wife', 'wifi', 'wild', 'willing', 'win', 'wind', 'window', 'windows', 'windshield', 'wine', 'wines', 'wing', 'wings', 'winner', 'winning', 'winter', 'wipe', 'wiped', 'wisconsin', 'wise', 'wish', 'wished', 'witnessed', 'woke', 'woman', 'women', 'won', 'wonder', 'wonderful', 'wonderfully', 'wondering', 'wont', 'wonton', 'wontons', 'wood', 'wooden', 'word', 'words', 'work', 'worked', 'worker', 'workers', 'working', 'workout', 'works', 'world', 'worn', 'worried', 'worries', 'worry', 'worse', 'worst', 'worth', 'worthy', 'wouldn', 'wow', 'wrap', 'wrapped', 'wraps', 'write', 'writing', 'written', 'wrong', 'wrote', 'wtf', 'www', 'wynn', 'x80', 'x81', 'x82', 'x83', 'x84', 'x85', 'x86', 'x88', 'x89', 'x8a', 'x8b', 'x8c', 'x8d', 'x8f', 'x90', 'x91', 'x97', 'x99', 'x9a', 'x9c', 'x9f', 'xa0', 'xa1', 'xa3', 'xa4', 'xa5', 'xa6', 'xa7', 'xa8', 'xa8s', 'xa9', 'xa9cor', 'xa9e', 'xa9ed', 'xa9es', 'xa9s', 'xa9tait', 'xaa', 'xad', 'xae', 'xaf', 'xb0', 'xb1o', 'xb1os', 'xb3', 'xb8', 'xb9', 'xba', 'xbb', 'xbbl', 'xbc', 'xbd', 'xbe', 'xc2', 'xc3', 'xe2', 'xe3', 'xe4', 'xe5', 'xe6', 'xe7', 'xe8', 'xe9', 'xef', 'xs', 'ya', 'yard', 'yay', 'yea', 'yeah', 'year', 'years', 'yell', 'yelled', 'yelling', 'yellow', 'yellowtail', 'yelp', 'yelper', 'yelpers', 'yep', 'yes', 'yesterday', 'yo', 'yoga', 'yogurt', 'yonge', 'york', 'young', 'younger', 'yr', 'yuck', 'yum', 'yummy', 'zero', 'zone', 'zoo', 'zucchini']\n",
      "5000\n",
      "Wall time: 5min 7s\n"
     ]
    }
   ],
   "source": [
    "%%time\n",
    "# Get important words \n",
    "vectorizer = sk_text.TfidfVectorizer(stop_words='english',\n",
    "                                    max_features = 5000,\n",
    "                                    min_df = 1\n",
    "                                    )\n",
    "matrix = vectorizer.fit_transform(final.all_reviews)\n",
    "tfidf_data = matrix.toarray()\n",
    "\n",
    "print(vectorizer.get_feature_names())\n",
    "print(len(vectorizer.get_feature_names()))"
   ]
  },
  {
   "cell_type": "code",
   "execution_count": 7,
   "metadata": {},
   "outputs": [
    {
     "data": {
      "text/plain": [
       "Index(['all_reviews', 'stars', 'latitude', 'longitude'], dtype='object')"
      ]
     },
     "execution_count": 7,
     "metadata": {},
     "output_type": "execute_result"
    }
   ],
   "source": [
    "final.columns"
   ]
  },
  {
   "cell_type": "code",
   "execution_count": 8,
   "metadata": {},
   "outputs": [],
   "source": [
    "# this column is no longer needed and should be replace with the vectorized version of \"all_reviews\"\n",
    "final.drop('all_reviews', axis=1 , inplace=True)"
   ]
  },
  {
   "cell_type": "code",
   "execution_count": 9,
   "metadata": {},
   "outputs": [],
   "source": [
    "final.columns = ['Star_rating' , 'latitude' , 'longitude'] "
   ]
  },
  {
   "cell_type": "code",
   "execution_count": 10,
   "metadata": {},
   "outputs": [
    {
     "data": {
      "text/plain": [
       "(   Star_rating  latitude  longitude\n",
       " 0          4.0  2.836803  -0.889228\n",
       " 1          3.0  1.280054   1.215488\n",
       " 2          4.0 -0.535133   1.127857\n",
       " 3          3.5 -0.983130  -0.757473\n",
       " 4          4.0 -0.386957  -0.955332, (92592, 3))"
      ]
     },
     "execution_count": 10,
     "metadata": {},
     "output_type": "execute_result"
    }
   ],
   "source": [
    "final.head() , final.shape"
   ]
  },
  {
   "cell_type": "code",
   "execution_count": 11,
   "metadata": {},
   "outputs": [],
   "source": [
    "# Composed = dataframe of the tfidf_data \n",
    "composed = pd.DataFrame(tfidf_data, columns=vectorizer.get_feature_names()) #Convert numpy to df "
   ]
  },
  {
   "cell_type": "code",
   "execution_count": 12,
   "metadata": {},
   "outputs": [
    {
     "data": {
      "text/plain": [
       "(Index(['00', '000', '00pm', '10', '100', '1000', '10am', '10pm', '11', '11am',\n",
       "        ...\n",
       "        'young', 'younger', 'yr', 'yuck', 'yum', 'yummy', 'zero', 'zone', 'zoo',\n",
       "        'zucchini'],\n",
       "       dtype='object', length=5000), (92592, 5000))"
      ]
     },
     "execution_count": 12,
     "metadata": {},
     "output_type": "execute_result"
    }
   ],
   "source": [
    "composed.columns , composed.shape"
   ]
  },
  {
   "cell_type": "code",
   "execution_count": 13,
   "metadata": {},
   "outputs": [
    {
     "name": "stdout",
     "output_type": "stream",
     "text": [
      "Wall time: 7.4 s\n"
     ]
    }
   ],
   "source": [
    "%%time\n",
    "train_ready = pd.merge(final,composed, on=final.index , how='inner')"
   ]
  },
  {
   "cell_type": "code",
   "execution_count": 14,
   "metadata": {},
   "outputs": [
    {
     "data": {
      "text/plain": [
       "Index(['key_0', 'Star_rating', 'latitude', 'longitude', '00', '000', '00pm',\n",
       "       '10', '100', '1000',\n",
       "       ...\n",
       "       'young', 'younger', 'yr', 'yuck', 'yum', 'yummy', 'zero', 'zone', 'zoo',\n",
       "       'zucchini'],\n",
       "      dtype='object', length=5004)"
      ]
     },
     "execution_count": 14,
     "metadata": {},
     "output_type": "execute_result"
    }
   ],
   "source": [
    "train_ready.columns"
   ]
  },
  {
   "cell_type": "code",
   "execution_count": 15,
   "metadata": {},
   "outputs": [],
   "source": [
    "train_ready = train_ready.drop(train_ready.columns[0] , axis='columns')"
   ]
  },
  {
   "cell_type": "code",
   "execution_count": 16,
   "metadata": {},
   "outputs": [
    {
     "data": {
      "text/plain": [
       "Index(['Star_rating', 'latitude', 'longitude', '00', '000', '00pm', '10',\n",
       "       '100', '1000', '10am',\n",
       "       ...\n",
       "       'young', 'younger', 'yr', 'yuck', 'yum', 'yummy', 'zero', 'zone', 'zoo',\n",
       "       'zucchini'],\n",
       "      dtype='object', length=5003)"
      ]
     },
     "execution_count": 16,
     "metadata": {},
     "output_type": "execute_result"
    }
   ],
   "source": [
    "train_ready.columns"
   ]
  },
  {
   "cell_type": "code",
   "execution_count": 19,
   "metadata": {},
   "outputs": [
    {
     "name": "stdout",
     "output_type": "stream",
     "text": [
      "Wall time: 5min 6s\n"
     ]
    }
   ],
   "source": [
    "%%time\n",
    "header = train_ready.columns\n",
    "train_ready.to_csv('split_ready.csv' , columns = header)"
   ]
  },
  {
   "cell_type": "code",
   "execution_count": 2,
   "metadata": {},
   "outputs": [
    {
     "name": "stdout",
     "output_type": "stream",
     "text": [
      "Wall time: 1min 29s\n"
     ]
    }
   ],
   "source": [
    "%%time\n",
    "train_ready = pd.read_csv('split_ready.csv', encoding=\"utf-8\")"
   ]
  },
  {
   "cell_type": "code",
   "execution_count": 4,
   "metadata": {},
   "outputs": [
    {
     "data": {
      "text/html": [
       "<div>\n",
       "<style scoped>\n",
       "    .dataframe tbody tr th:only-of-type {\n",
       "        vertical-align: middle;\n",
       "    }\n",
       "\n",
       "    .dataframe tbody tr th {\n",
       "        vertical-align: top;\n",
       "    }\n",
       "\n",
       "    .dataframe thead th {\n",
       "        text-align: right;\n",
       "    }\n",
       "</style>\n",
       "<table border=\"1\" class=\"dataframe\">\n",
       "  <thead>\n",
       "    <tr style=\"text-align: right;\">\n",
       "      <th></th>\n",
       "      <th>Unnamed: 0</th>\n",
       "      <th>Star_rating</th>\n",
       "      <th>latitude</th>\n",
       "      <th>longitude</th>\n",
       "      <th>00</th>\n",
       "      <th>000</th>\n",
       "      <th>00pm</th>\n",
       "      <th>10</th>\n",
       "      <th>100</th>\n",
       "      <th>1000</th>\n",
       "      <th>...</th>\n",
       "      <th>young</th>\n",
       "      <th>younger</th>\n",
       "      <th>yr</th>\n",
       "      <th>yuck</th>\n",
       "      <th>yum</th>\n",
       "      <th>yummy</th>\n",
       "      <th>zero</th>\n",
       "      <th>zone</th>\n",
       "      <th>zoo</th>\n",
       "      <th>zucchini</th>\n",
       "    </tr>\n",
       "  </thead>\n",
       "  <tbody>\n",
       "    <tr>\n",
       "      <th>0</th>\n",
       "      <td>0</td>\n",
       "      <td>4.0</td>\n",
       "      <td>2.836803</td>\n",
       "      <td>-0.889228</td>\n",
       "      <td>0.000000</td>\n",
       "      <td>0.000000</td>\n",
       "      <td>0.000000</td>\n",
       "      <td>0.008603</td>\n",
       "      <td>0.000000</td>\n",
       "      <td>0.000000</td>\n",
       "      <td>...</td>\n",
       "      <td>0.000000</td>\n",
       "      <td>0.000000</td>\n",
       "      <td>0.000000</td>\n",
       "      <td>0.000000</td>\n",
       "      <td>0.000000</td>\n",
       "      <td>0.000000</td>\n",
       "      <td>0.015732</td>\n",
       "      <td>0.000000</td>\n",
       "      <td>0.0</td>\n",
       "      <td>0.0</td>\n",
       "    </tr>\n",
       "    <tr>\n",
       "      <th>1</th>\n",
       "      <td>1</td>\n",
       "      <td>3.0</td>\n",
       "      <td>1.280054</td>\n",
       "      <td>1.215488</td>\n",
       "      <td>0.025712</td>\n",
       "      <td>0.000000</td>\n",
       "      <td>0.000000</td>\n",
       "      <td>0.013500</td>\n",
       "      <td>0.000000</td>\n",
       "      <td>0.000000</td>\n",
       "      <td>...</td>\n",
       "      <td>0.000000</td>\n",
       "      <td>0.000000</td>\n",
       "      <td>0.000000</td>\n",
       "      <td>0.000000</td>\n",
       "      <td>0.000000</td>\n",
       "      <td>0.000000</td>\n",
       "      <td>0.000000</td>\n",
       "      <td>0.009884</td>\n",
       "      <td>0.0</td>\n",
       "      <td>0.0</td>\n",
       "    </tr>\n",
       "    <tr>\n",
       "      <th>2</th>\n",
       "      <td>2</td>\n",
       "      <td>4.0</td>\n",
       "      <td>-0.535133</td>\n",
       "      <td>1.127857</td>\n",
       "      <td>0.000000</td>\n",
       "      <td>0.000000</td>\n",
       "      <td>0.000000</td>\n",
       "      <td>0.011883</td>\n",
       "      <td>0.000000</td>\n",
       "      <td>0.000000</td>\n",
       "      <td>...</td>\n",
       "      <td>0.006239</td>\n",
       "      <td>0.009839</td>\n",
       "      <td>0.000000</td>\n",
       "      <td>0.000000</td>\n",
       "      <td>0.000000</td>\n",
       "      <td>0.000000</td>\n",
       "      <td>0.000000</td>\n",
       "      <td>0.000000</td>\n",
       "      <td>0.0</td>\n",
       "      <td>0.0</td>\n",
       "    </tr>\n",
       "    <tr>\n",
       "      <th>3</th>\n",
       "      <td>3</td>\n",
       "      <td>3.5</td>\n",
       "      <td>-0.983130</td>\n",
       "      <td>-0.757473</td>\n",
       "      <td>0.000000</td>\n",
       "      <td>0.000000</td>\n",
       "      <td>0.000000</td>\n",
       "      <td>0.000000</td>\n",
       "      <td>0.023909</td>\n",
       "      <td>0.000000</td>\n",
       "      <td>...</td>\n",
       "      <td>0.000000</td>\n",
       "      <td>0.000000</td>\n",
       "      <td>0.000000</td>\n",
       "      <td>0.000000</td>\n",
       "      <td>0.000000</td>\n",
       "      <td>0.000000</td>\n",
       "      <td>0.028374</td>\n",
       "      <td>0.000000</td>\n",
       "      <td>0.0</td>\n",
       "      <td>0.0</td>\n",
       "    </tr>\n",
       "    <tr>\n",
       "      <th>4</th>\n",
       "      <td>4</td>\n",
       "      <td>4.0</td>\n",
       "      <td>-0.386957</td>\n",
       "      <td>-0.955332</td>\n",
       "      <td>0.005172</td>\n",
       "      <td>0.000966</td>\n",
       "      <td>0.001413</td>\n",
       "      <td>0.011517</td>\n",
       "      <td>0.008033</td>\n",
       "      <td>0.001749</td>\n",
       "      <td>...</td>\n",
       "      <td>0.001719</td>\n",
       "      <td>0.000903</td>\n",
       "      <td>0.001859</td>\n",
       "      <td>0.000338</td>\n",
       "      <td>0.010108</td>\n",
       "      <td>0.013371</td>\n",
       "      <td>0.001109</td>\n",
       "      <td>0.000000</td>\n",
       "      <td>0.0</td>\n",
       "      <td>0.0</td>\n",
       "    </tr>\n",
       "  </tbody>\n",
       "</table>\n",
       "<p>5 rows × 5004 columns</p>\n",
       "</div>"
      ],
      "text/plain": [
       "   Unnamed: 0  Star_rating  latitude  longitude        00       000      00pm  \\\n",
       "0           0          4.0  2.836803  -0.889228  0.000000  0.000000  0.000000   \n",
       "1           1          3.0  1.280054   1.215488  0.025712  0.000000  0.000000   \n",
       "2           2          4.0 -0.535133   1.127857  0.000000  0.000000  0.000000   \n",
       "3           3          3.5 -0.983130  -0.757473  0.000000  0.000000  0.000000   \n",
       "4           4          4.0 -0.386957  -0.955332  0.005172  0.000966  0.001413   \n",
       "\n",
       "         10       100      1000  ...     young   younger        yr      yuck  \\\n",
       "0  0.008603  0.000000  0.000000  ...  0.000000  0.000000  0.000000  0.000000   \n",
       "1  0.013500  0.000000  0.000000  ...  0.000000  0.000000  0.000000  0.000000   \n",
       "2  0.011883  0.000000  0.000000  ...  0.006239  0.009839  0.000000  0.000000   \n",
       "3  0.000000  0.023909  0.000000  ...  0.000000  0.000000  0.000000  0.000000   \n",
       "4  0.011517  0.008033  0.001749  ...  0.001719  0.000903  0.001859  0.000338   \n",
       "\n",
       "        yum     yummy      zero      zone  zoo  zucchini  \n",
       "0  0.000000  0.000000  0.015732  0.000000  0.0       0.0  \n",
       "1  0.000000  0.000000  0.000000  0.009884  0.0       0.0  \n",
       "2  0.000000  0.000000  0.000000  0.000000  0.0       0.0  \n",
       "3  0.000000  0.000000  0.028374  0.000000  0.0       0.0  \n",
       "4  0.010108  0.013371  0.001109  0.000000  0.0       0.0  \n",
       "\n",
       "[5 rows x 5004 columns]"
      ]
     },
     "execution_count": 4,
     "metadata": {},
     "output_type": "execute_result"
    }
   ],
   "source": [
    "train_ready.head()"
   ]
  },
  {
   "cell_type": "code",
   "execution_count": 5,
   "metadata": {},
   "outputs": [],
   "source": [
    "rating = train_ready.Star_rating"
   ]
  },
  {
   "cell_type": "code",
   "execution_count": 6,
   "metadata": {},
   "outputs": [],
   "source": [
    "train_ready = train_ready.drop(train_ready.columns[0] , axis='columns')\n",
    "train_ready = train_ready.drop(train_ready.columns[0] , axis='columns')"
   ]
  },
  {
   "cell_type": "code",
   "execution_count": 7,
   "metadata": {},
   "outputs": [
    {
     "data": {
      "text/html": [
       "<div>\n",
       "<style scoped>\n",
       "    .dataframe tbody tr th:only-of-type {\n",
       "        vertical-align: middle;\n",
       "    }\n",
       "\n",
       "    .dataframe tbody tr th {\n",
       "        vertical-align: top;\n",
       "    }\n",
       "\n",
       "    .dataframe thead th {\n",
       "        text-align: right;\n",
       "    }\n",
       "</style>\n",
       "<table border=\"1\" class=\"dataframe\">\n",
       "  <thead>\n",
       "    <tr style=\"text-align: right;\">\n",
       "      <th></th>\n",
       "      <th>latitude</th>\n",
       "      <th>longitude</th>\n",
       "      <th>00</th>\n",
       "      <th>000</th>\n",
       "      <th>00pm</th>\n",
       "      <th>10</th>\n",
       "      <th>100</th>\n",
       "      <th>1000</th>\n",
       "      <th>10am</th>\n",
       "      <th>10pm</th>\n",
       "      <th>...</th>\n",
       "      <th>young</th>\n",
       "      <th>younger</th>\n",
       "      <th>yr</th>\n",
       "      <th>yuck</th>\n",
       "      <th>yum</th>\n",
       "      <th>yummy</th>\n",
       "      <th>zero</th>\n",
       "      <th>zone</th>\n",
       "      <th>zoo</th>\n",
       "      <th>zucchini</th>\n",
       "    </tr>\n",
       "  </thead>\n",
       "  <tbody>\n",
       "    <tr>\n",
       "      <th>0</th>\n",
       "      <td>2.836803</td>\n",
       "      <td>-0.889228</td>\n",
       "      <td>0.000000</td>\n",
       "      <td>0.000000</td>\n",
       "      <td>0.000000</td>\n",
       "      <td>0.008603</td>\n",
       "      <td>0.000000</td>\n",
       "      <td>0.000000</td>\n",
       "      <td>0.0</td>\n",
       "      <td>0.000000</td>\n",
       "      <td>...</td>\n",
       "      <td>0.000000</td>\n",
       "      <td>0.000000</td>\n",
       "      <td>0.000000</td>\n",
       "      <td>0.000000</td>\n",
       "      <td>0.000000</td>\n",
       "      <td>0.000000</td>\n",
       "      <td>0.015732</td>\n",
       "      <td>0.000000</td>\n",
       "      <td>0.0</td>\n",
       "      <td>0.0</td>\n",
       "    </tr>\n",
       "    <tr>\n",
       "      <th>1</th>\n",
       "      <td>1.280054</td>\n",
       "      <td>1.215488</td>\n",
       "      <td>0.025712</td>\n",
       "      <td>0.000000</td>\n",
       "      <td>0.000000</td>\n",
       "      <td>0.013500</td>\n",
       "      <td>0.000000</td>\n",
       "      <td>0.000000</td>\n",
       "      <td>0.0</td>\n",
       "      <td>0.000000</td>\n",
       "      <td>...</td>\n",
       "      <td>0.000000</td>\n",
       "      <td>0.000000</td>\n",
       "      <td>0.000000</td>\n",
       "      <td>0.000000</td>\n",
       "      <td>0.000000</td>\n",
       "      <td>0.000000</td>\n",
       "      <td>0.000000</td>\n",
       "      <td>0.009884</td>\n",
       "      <td>0.0</td>\n",
       "      <td>0.0</td>\n",
       "    </tr>\n",
       "    <tr>\n",
       "      <th>2</th>\n",
       "      <td>-0.535133</td>\n",
       "      <td>1.127857</td>\n",
       "      <td>0.000000</td>\n",
       "      <td>0.000000</td>\n",
       "      <td>0.000000</td>\n",
       "      <td>0.011883</td>\n",
       "      <td>0.000000</td>\n",
       "      <td>0.000000</td>\n",
       "      <td>0.0</td>\n",
       "      <td>0.000000</td>\n",
       "      <td>...</td>\n",
       "      <td>0.006239</td>\n",
       "      <td>0.009839</td>\n",
       "      <td>0.000000</td>\n",
       "      <td>0.000000</td>\n",
       "      <td>0.000000</td>\n",
       "      <td>0.000000</td>\n",
       "      <td>0.000000</td>\n",
       "      <td>0.000000</td>\n",
       "      <td>0.0</td>\n",
       "      <td>0.0</td>\n",
       "    </tr>\n",
       "    <tr>\n",
       "      <th>3</th>\n",
       "      <td>-0.983130</td>\n",
       "      <td>-0.757473</td>\n",
       "      <td>0.000000</td>\n",
       "      <td>0.000000</td>\n",
       "      <td>0.000000</td>\n",
       "      <td>0.000000</td>\n",
       "      <td>0.023909</td>\n",
       "      <td>0.000000</td>\n",
       "      <td>0.0</td>\n",
       "      <td>0.000000</td>\n",
       "      <td>...</td>\n",
       "      <td>0.000000</td>\n",
       "      <td>0.000000</td>\n",
       "      <td>0.000000</td>\n",
       "      <td>0.000000</td>\n",
       "      <td>0.000000</td>\n",
       "      <td>0.000000</td>\n",
       "      <td>0.028374</td>\n",
       "      <td>0.000000</td>\n",
       "      <td>0.0</td>\n",
       "      <td>0.0</td>\n",
       "    </tr>\n",
       "    <tr>\n",
       "      <th>4</th>\n",
       "      <td>-0.386957</td>\n",
       "      <td>-0.955332</td>\n",
       "      <td>0.005172</td>\n",
       "      <td>0.000966</td>\n",
       "      <td>0.001413</td>\n",
       "      <td>0.011517</td>\n",
       "      <td>0.008033</td>\n",
       "      <td>0.001749</td>\n",
       "      <td>0.0</td>\n",
       "      <td>0.001328</td>\n",
       "      <td>...</td>\n",
       "      <td>0.001719</td>\n",
       "      <td>0.000903</td>\n",
       "      <td>0.001859</td>\n",
       "      <td>0.000338</td>\n",
       "      <td>0.010108</td>\n",
       "      <td>0.013371</td>\n",
       "      <td>0.001109</td>\n",
       "      <td>0.000000</td>\n",
       "      <td>0.0</td>\n",
       "      <td>0.0</td>\n",
       "    </tr>\n",
       "  </tbody>\n",
       "</table>\n",
       "<p>5 rows × 5002 columns</p>\n",
       "</div>"
      ],
      "text/plain": [
       "   latitude  longitude        00       000      00pm        10       100  \\\n",
       "0  2.836803  -0.889228  0.000000  0.000000  0.000000  0.008603  0.000000   \n",
       "1  1.280054   1.215488  0.025712  0.000000  0.000000  0.013500  0.000000   \n",
       "2 -0.535133   1.127857  0.000000  0.000000  0.000000  0.011883  0.000000   \n",
       "3 -0.983130  -0.757473  0.000000  0.000000  0.000000  0.000000  0.023909   \n",
       "4 -0.386957  -0.955332  0.005172  0.000966  0.001413  0.011517  0.008033   \n",
       "\n",
       "       1000  10am      10pm  ...     young   younger        yr      yuck  \\\n",
       "0  0.000000   0.0  0.000000  ...  0.000000  0.000000  0.000000  0.000000   \n",
       "1  0.000000   0.0  0.000000  ...  0.000000  0.000000  0.000000  0.000000   \n",
       "2  0.000000   0.0  0.000000  ...  0.006239  0.009839  0.000000  0.000000   \n",
       "3  0.000000   0.0  0.000000  ...  0.000000  0.000000  0.000000  0.000000   \n",
       "4  0.001749   0.0  0.001328  ...  0.001719  0.000903  0.001859  0.000338   \n",
       "\n",
       "        yum     yummy      zero      zone  zoo  zucchini  \n",
       "0  0.000000  0.000000  0.015732  0.000000  0.0       0.0  \n",
       "1  0.000000  0.000000  0.000000  0.009884  0.0       0.0  \n",
       "2  0.000000  0.000000  0.000000  0.000000  0.0       0.0  \n",
       "3  0.000000  0.000000  0.028374  0.000000  0.0       0.0  \n",
       "4  0.010108  0.013371  0.001109  0.000000  0.0       0.0  \n",
       "\n",
       "[5 rows x 5002 columns]"
      ]
     },
     "execution_count": 7,
     "metadata": {},
     "output_type": "execute_result"
    }
   ],
   "source": [
    "train_ready.head()"
   ]
  },
  {
   "cell_type": "code",
   "execution_count": 8,
   "metadata": {},
   "outputs": [],
   "source": [
    "#Split to test/train \n",
    "x_train, x_test, y_train, y_test, indices_train, indices_test = train_test_split(train_ready,rating,np.arange(rating.shape[0]),test_size=0.20,random_state=42)"
   ]
  },
  {
   "cell_type": "code",
   "execution_count": 9,
   "metadata": {},
   "outputs": [
    {
     "data": {
      "text/plain": [
       "((74073, 5002), (18519, 5002), (74073,), (18519,), (92592, 5002), (92592,))"
      ]
     },
     "execution_count": 9,
     "metadata": {},
     "output_type": "execute_result"
    }
   ],
   "source": [
    "x_train.shape , x_test.shape , y_train.shape , y_test.shape , train_ready.shape , rating.shape"
   ]
  },
  {
   "cell_type": "markdown",
   "metadata": {},
   "source": [
    "### Step 3: Create Model + Training "
   ]
  },
  {
   "cell_type": "code",
   "execution_count": 10,
   "metadata": {},
   "outputs": [
    {
     "name": "stderr",
     "output_type": "stream",
     "text": [
      "WARNING: Logging before flag parsing goes to stderr.\n",
      "W0927 08:18:19.651402 23804 deprecation.py:506] From C:\\ProgramData\\Anaconda3\\lib\\site-packages\\tensorflow\\python\\ops\\init_ops.py:1251: calling VarianceScaling.__init__ (from tensorflow.python.ops.init_ops) with dtype is deprecated and will be removed in a future version.\n",
      "Instructions for updating:\n",
      "Call initializer instance with the dtype argument instead of passing it to the constructor\n"
     ]
    },
    {
     "name": "stdout",
     "output_type": "stream",
     "text": [
      ">>>>>>>>>>>>>>>>>>>>>>>>>>>>>>>>>>>>>>>>>>>>>>>>>>>>> 0\n",
      "Train on 74073 samples, validate on 18519 samples\n",
      "Epoch 1/1000\n",
      "74073/74073 - 24s - loss: 0.3729 - val_loss: 0.1041\n",
      "Epoch 2/1000\n",
      "74073/74073 - 23s - loss: 0.0914 - val_loss: 0.0926\n",
      "Epoch 3/1000\n",
      "74073/74073 - 21s - loss: 0.0813 - val_loss: 0.0949\n",
      ">>>>>>>>>>>>>>>>>>>>>>>>>>>>>>>>>>>>>>>>>>>>>>>>>>>>> 1\n",
      "Train on 74073 samples, validate on 18519 samples\n",
      "Epoch 1/1000\n",
      "74073/74073 - 21s - loss: 0.5584 - val_loss: 0.1175\n",
      "Epoch 2/1000\n",
      "74073/74073 - 23s - loss: 0.1068 - val_loss: 0.1140\n",
      "Epoch 3/1000\n",
      "74073/74073 - 20s - loss: 0.0909 - val_loss: 0.1062\n",
      "Epoch 4/1000\n",
      "74073/74073 - 21s - loss: 0.0804 - val_loss: 0.0913\n",
      "Epoch 5/1000\n",
      "74073/74073 - 23s - loss: 0.0750 - val_loss: 0.0916\n",
      ">>>>>>>>>>>>>>>>>>>>>>>>>>>>>>>>>>>>>>>>>>>>>>>>>>>>> 2\n",
      "Train on 74073 samples, validate on 18519 samples\n",
      "Epoch 1/1000\n",
      "74073/74073 - 23s - loss: 0.3720 - val_loss: 0.1188\n",
      "Epoch 2/1000\n",
      "74073/74073 - 22s - loss: 0.0951 - val_loss: 0.0970\n",
      "Epoch 3/1000\n",
      "74073/74073 - 21s - loss: 0.0826 - val_loss: 0.0930\n",
      "Epoch 4/1000\n",
      "74073/74073 - 23s - loss: 0.0750 - val_loss: 0.0967\n",
      ">>>>>>>>>>>>>>>>>>>>>>>>>>>>>>>>>>>>>>>>>>>>>>>>>>>>> 3\n",
      "Train on 74073 samples, validate on 18519 samples\n",
      "Epoch 1/1000\n",
      "74073/74073 - 23s - loss: 0.2987 - val_loss: 0.1000\n",
      "Epoch 2/1000\n",
      "74073/74073 - 23s - loss: 0.0883 - val_loss: 0.0948\n",
      "Epoch 3/1000\n",
      "74073/74073 - 23s - loss: 0.0787 - val_loss: 0.1093\n",
      ">>>>>>>>>>>>>>>>>>>>>>>>>>>>>>>>>>>>>>>>>>>>>>>>>>>>> 4\n",
      "Train on 74073 samples, validate on 18519 samples\n",
      "Epoch 1/1000\n",
      "74073/74073 - 23s - loss: 0.3847 - val_loss: 0.1075\n",
      "Epoch 2/1000\n",
      "74073/74073 - 21s - loss: 0.0936 - val_loss: 0.0937\n",
      "Epoch 3/1000\n",
      "74073/74073 - 25s - loss: 0.0813 - val_loss: 0.0917\n",
      "Epoch 4/1000\n",
      "74073/74073 - 25s - loss: 0.0756 - val_loss: 0.0944\n",
      ">>>>>>>>>>>>>>>>>>>>>>>>>>>>>>>>>>>>>>>>>>>>>>>>>>>>> 5\n",
      "Train on 74073 samples, validate on 18519 samples\n",
      "Epoch 1/1000\n",
      "74073/74073 - 24s - loss: 0.3463 - val_loss: 0.1113\n",
      "Epoch 2/1000\n",
      "74073/74073 - 23s - loss: 0.0964 - val_loss: 0.0942\n",
      "Epoch 3/1000\n",
      "74073/74073 - 22s - loss: 0.0822 - val_loss: 0.0909\n",
      "Epoch 4/1000\n",
      "74073/74073 - 23s - loss: 0.0757 - val_loss: 0.0909\n",
      ">>>>>>>>>>>>>>>>>>>>>>>>>>>>>>>>>>>>>>>>>>>>>>>>>>>>> 6\n",
      "Train on 74073 samples, validate on 18519 samples\n",
      "Epoch 1/1000\n",
      "74073/74073 - 25s - loss: 0.3598 - val_loss: 0.1070\n",
      "Epoch 2/1000\n",
      "74073/74073 - 22s - loss: 0.0924 - val_loss: 0.0957\n",
      "Epoch 3/1000\n",
      "74073/74073 - 21s - loss: 0.0824 - val_loss: 0.0930\n",
      "Epoch 4/1000\n",
      "74073/74073 - 27s - loss: 0.0760 - val_loss: 0.0955\n",
      ">>>>>>>>>>>>>>>>>>>>>>>>>>>>>>>>>>>>>>>>>>>>>>>>>>>>> 7\n",
      "Train on 74073 samples, validate on 18519 samples\n",
      "Epoch 1/1000\n",
      "74073/74073 - 25s - loss: 0.4634 - val_loss: 0.1029\n",
      "Epoch 2/1000\n",
      "74073/74073 - 25s - loss: 0.0904 - val_loss: 0.0940\n",
      "Epoch 3/1000\n",
      "74073/74073 - 21s - loss: 0.0794 - val_loss: 0.0992\n",
      ">>>>>>>>>>>>>>>>>>>>>>>>>>>>>>>>>>>>>>>>>>>>>>>>>>>>> 8\n",
      "Train on 74073 samples, validate on 18519 samples\n",
      "Epoch 1/1000\n",
      "74073/74073 - 21s - loss: 0.4987 - val_loss: 0.0987\n",
      "Epoch 2/1000\n",
      "74073/74073 - 25s - loss: 0.0873 - val_loss: 0.0961\n",
      "Epoch 3/1000\n",
      "74073/74073 - 25s - loss: 0.0778 - val_loss: 0.0910\n",
      "Epoch 4/1000\n",
      "74073/74073 - 20s - loss: 0.0719 - val_loss: 0.0914\n",
      ">>>>>>>>>>>>>>>>>>>>>>>>>>>>>>>>>>>>>>>>>>>>>>>>>>>>> 9\n",
      "Train on 74073 samples, validate on 18519 samples\n",
      "Epoch 1/1000\n",
      "74073/74073 - 20s - loss: 0.3362 - val_loss: 0.0998\n",
      "Epoch 2/1000\n",
      "74073/74073 - 22s - loss: 0.0881 - val_loss: 0.0923\n",
      "Epoch 3/1000\n",
      "74073/74073 - 19s - loss: 0.0789 - val_loss: 0.0919\n",
      "Best Model Loaded...\n",
      "Wall time: 14min 2s\n"
     ]
    }
   ],
   "source": [
    "%%time\n",
    "checkpointer = ModelCheckpoint(filepath=\"saved/projectBestSave_relu.hdf5\", verbose=0, save_best_only=True)\n",
    "\n",
    "for i in range(10):\n",
    "    print('>>>>>>>>>>>>>>>>>>>>>>>>>>>>>>>>>>>>>>>>>>>>>>>>>>>>>' , i)\n",
    "    #build model\n",
    "    model = Sequential()\n",
    "    model.add(Dense(25, input_dim=train_ready.shape[1], activation='relu'))\n",
    "    model.add(Dense(10, activation='relu'))\n",
    "    model.add(Dense(50, activation='relu'))\n",
    "    model.add(Dense(7,  activation='relu'))\n",
    "    model.add(Dense(15, activation='relu'))\n",
    "    model.add(Dense(1))\n",
    "    \n",
    "    #Compile model \n",
    "    model.compile(loss='mean_squared_error' , optimizer='adam')\n",
    "    \n",
    "    #Early Stopping\n",
    "    monitor = EarlyStopping(monitor='val_loss', min_delta=1e-3, patience=1, verbose=0, mode='auto')\n",
    "    \n",
    "    #Training\n",
    "    model.fit(x_train, y_train,\n",
    "              validation_data=(x_test,y_test),\n",
    "              batch_size=32,\n",
    "              callbacks=[monitor,checkpointer],\n",
    "              verbose=2,\n",
    "              epochs=1000)\n",
    "#Load Best Model \n",
    "model.load_weights('saved/projectBestSave_relu.hdf5')\n",
    "print(\"Best Model Loaded...\")"
   ]
  },
  {
   "cell_type": "markdown",
   "metadata": {},
   "source": [
    "### Step4: Predict and Performance"
   ]
  },
  {
   "cell_type": "code",
   "execution_count": null,
   "metadata": {},
   "outputs": [],
   "source": [
    "model = Sequential()\n",
    "model.load_weights('saved/projectBestSave_relu.hdf5')\n",
    "print(\"Best Model Loaded...\")"
   ]
  },
  {
   "cell_type": "code",
   "execution_count": 44,
   "metadata": {},
   "outputs": [],
   "source": [
    "# save entire network to HDF5 (save everything)\n",
    "\n",
    "model.save('saved/projectBestSave.hdf5')"
   ]
  },
  {
   "cell_type": "code",
   "execution_count": null,
   "metadata": {},
   "outputs": [],
   "source": [
    "# Load model if don't want to recompute model \n",
    "model = load_model('saved/projectBestSave_relu.hdf5')"
   ]
  },
  {
   "cell_type": "code",
   "execution_count": 15,
   "metadata": {},
   "outputs": [
    {
     "name": "stdout",
     "output_type": "stream",
     "text": [
      "Model: \"sequential_5\"\n",
      "_________________________________________________________________\n",
      "Layer (type)                 Output Shape              Param #   \n",
      "=================================================================\n",
      "dense_30 (Dense)             (None, 25)                125075    \n",
      "_________________________________________________________________\n",
      "dense_31 (Dense)             (None, 10)                260       \n",
      "_________________________________________________________________\n",
      "dense_32 (Dense)             (None, 50)                550       \n",
      "_________________________________________________________________\n",
      "dense_33 (Dense)             (None, 7)                 357       \n",
      "_________________________________________________________________\n",
      "dense_34 (Dense)             (None, 15)                120       \n",
      "_________________________________________________________________\n",
      "dense_35 (Dense)             (None, 1)                 16        \n",
      "=================================================================\n",
      "Total params: 126,378\n",
      "Trainable params: 126,378\n",
      "Non-trainable params: 0\n",
      "_________________________________________________________________\n"
     ]
    }
   ],
   "source": [
    "model.summary()"
   ]
  },
  {
   "cell_type": "code",
   "execution_count": 16,
   "metadata": {},
   "outputs": [],
   "source": [
    "pred = model.predict(x_test) "
   ]
  },
  {
   "cell_type": "code",
   "execution_count": 48,
   "metadata": {},
   "outputs": [],
   "source": [
    "import numpy\n",
    "numpy.savetxt('x_test.csv', x_test, delimiter=\",\")"
   ]
  },
  {
   "cell_type": "code",
   "execution_count": 17,
   "metadata": {},
   "outputs": [
    {
     "name": "stdout",
     "output_type": "stream",
     "text": [
      "Final score (RMSE): 0.3014167473119845\n"
     ]
    }
   ],
   "source": [
    "score = np.sqrt(metrics.mean_squared_error(pred,y_test))\n",
    "print(\"Final score (RMSE): {}\".format(score))"
   ]
  },
  {
   "cell_type": "code",
   "execution_count": 18,
   "metadata": {},
   "outputs": [
    {
     "data": {
      "image/png": "[encoded data removed]",
      "text/plain": [
       "<Figure size 1440x720 with 1 Axes>"
      ]
     },
     "metadata": {
      "needs_background": "light"
     },
     "output_type": "display_data"
    }
   ],
   "source": [
    "chart_regression(pred.flatten(),y_test.values.flatten(), sort=True)"
   ]
  },
  {
   "cell_type": "code",
   "execution_count": null,
   "metadata": {},
   "outputs": [],
   "source": []
  },
  {
   "cell_type": "code",
   "execution_count": null,
   "metadata": {},
   "outputs": [],
   "source": []
  },
  {
   "cell_type": "code",
   "execution_count": null,
   "metadata": {},
   "outputs": [],
   "source": []
  },
  {
   "cell_type": "code",
   "execution_count": 19,
   "metadata": {},
   "outputs": [
    {
     "name": "stdout",
     "output_type": "stream",
     "text": [
      ">>>>>>>>>>>>>>>>>>>>>>>>>>>>>>>>>>>>>>>>>>>>>>>>>>>>> 0\n",
      "Train on 74073 samples, validate on 18519 samples\n",
      "Epoch 1/1000\n",
      "74073/74073 - 23s - loss: 0.3498 - val_loss: 0.1738\n",
      "Epoch 2/1000\n",
      "74073/74073 - 22s - loss: 0.1375 - val_loss: 0.1408\n",
      "Epoch 3/1000\n",
      "74073/74073 - 23s - loss: 0.1206 - val_loss: 0.1142\n",
      "Epoch 4/1000\n",
      "74073/74073 - 22s - loss: 0.1103 - val_loss: 0.1200\n",
      ">>>>>>>>>>>>>>>>>>>>>>>>>>>>>>>>>>>>>>>>>>>>>>>>>>>>> 1\n",
      "Train on 74073 samples, validate on 18519 samples\n",
      "Epoch 1/1000\n",
      "74073/74073 - 25s - loss: 0.3516 - val_loss: 0.1534\n",
      "Epoch 2/1000\n",
      "74073/74073 - 27s - loss: 0.1406 - val_loss: 0.1286\n",
      "Epoch 3/1000\n",
      "74073/74073 - 26s - loss: 0.1206 - val_loss: 0.1189\n",
      "Epoch 4/1000\n",
      "74073/74073 - 25s - loss: 0.1119 - val_loss: 0.1064\n",
      "Epoch 5/1000\n",
      "74073/74073 - 24s - loss: 0.1049 - val_loss: 0.1257\n",
      ">>>>>>>>>>>>>>>>>>>>>>>>>>>>>>>>>>>>>>>>>>>>>>>>>>>>> 2\n",
      "Train on 74073 samples, validate on 18519 samples\n",
      "Epoch 1/1000\n",
      "74073/74073 - 27s - loss: 0.3332 - val_loss: 0.1739\n",
      "Epoch 2/1000\n",
      "74073/74073 - 29s - loss: 0.1405 - val_loss: 0.1256\n",
      "Epoch 3/1000\n",
      "74073/74073 - 28s - loss: 0.1223 - val_loss: 0.1323\n",
      ">>>>>>>>>>>>>>>>>>>>>>>>>>>>>>>>>>>>>>>>>>>>>>>>>>>>> 3\n",
      "Train on 74073 samples, validate on 18519 samples\n",
      "Epoch 1/1000\n",
      "74073/74073 - 25s - loss: 0.3268 - val_loss: 0.1357\n",
      "Epoch 2/1000\n",
      "74073/74073 - 21s - loss: 0.1360 - val_loss: 0.1291\n",
      "Epoch 3/1000\n",
      "74073/74073 - 27s - loss: 0.1213 - val_loss: 0.1121\n",
      "Epoch 4/1000\n",
      "74073/74073 - 29s - loss: 0.1118 - val_loss: 0.1066\n",
      "Epoch 5/1000\n",
      "74073/74073 - 27s - loss: 0.1055 - val_loss: 0.1062\n",
      ">>>>>>>>>>>>>>>>>>>>>>>>>>>>>>>>>>>>>>>>>>>>>>>>>>>>> 4\n",
      "Train on 74073 samples, validate on 18519 samples\n",
      "Epoch 1/1000\n",
      "74073/74073 - 25s - loss: 0.3423 - val_loss: 0.1654\n",
      "Epoch 2/1000\n",
      "74073/74073 - 23s - loss: 0.1448 - val_loss: 0.1361\n",
      "Epoch 3/1000\n",
      "74073/74073 - 23s - loss: 0.1253 - val_loss: 0.1145\n",
      "Epoch 4/1000\n",
      "74073/74073 - 23s - loss: 0.1173 - val_loss: 0.1699\n",
      ">>>>>>>>>>>>>>>>>>>>>>>>>>>>>>>>>>>>>>>>>>>>>>>>>>>>> 5\n",
      "Train on 74073 samples, validate on 18519 samples\n",
      "Epoch 1/1000\n",
      "74073/74073 - 22s - loss: 0.3310 - val_loss: 0.1474\n",
      "Epoch 2/1000\n",
      "74073/74073 - 26s - loss: 0.1387 - val_loss: 0.1727\n",
      ">>>>>>>>>>>>>>>>>>>>>>>>>>>>>>>>>>>>>>>>>>>>>>>>>>>>> 6\n",
      "Train on 74073 samples, validate on 18519 samples\n",
      "Epoch 1/1000\n",
      "74073/74073 - 25s - loss: 0.3867 - val_loss: 0.1456\n",
      "Epoch 2/1000\n",
      "74073/74073 - 24s - loss: 0.1404 - val_loss: 0.1396\n",
      "Epoch 3/1000\n",
      "74073/74073 - 25s - loss: 0.1247 - val_loss: 0.1406\n",
      ">>>>>>>>>>>>>>>>>>>>>>>>>>>>>>>>>>>>>>>>>>>>>>>>>>>>> 7\n",
      "Train on 74073 samples, validate on 18519 samples\n",
      "Epoch 1/1000\n",
      "74073/74073 - 25s - loss: 0.3432 - val_loss: 0.1539\n",
      "Epoch 2/1000\n",
      "74073/74073 - 28s - loss: 0.1400 - val_loss: 0.1180\n",
      "Epoch 3/1000\n",
      "74073/74073 - 30s - loss: 0.1207 - val_loss: 0.1145\n",
      "Epoch 4/1000\n",
      "74073/74073 - 23s - loss: 0.1095 - val_loss: 0.1223\n",
      ">>>>>>>>>>>>>>>>>>>>>>>>>>>>>>>>>>>>>>>>>>>>>>>>>>>>> 8\n",
      "Train on 74073 samples, validate on 18519 samples\n",
      "Epoch 1/1000\n",
      "74073/74073 - 23s - loss: 0.3413 - val_loss: 0.2023\n",
      "Epoch 2/1000\n",
      "74073/74073 - 32s - loss: 0.1384 - val_loss: 0.1257\n",
      "Epoch 3/1000\n",
      "74073/74073 - 22s - loss: 0.1219 - val_loss: 0.1195\n",
      "Epoch 4/1000\n",
      "74073/74073 - 21s - loss: 0.1123 - val_loss: 0.1060\n",
      "Epoch 5/1000\n",
      "74073/74073 - 22s - loss: 0.1040 - val_loss: 0.1021\n",
      "Epoch 6/1000\n",
      "74073/74073 - 21s - loss: 0.0982 - val_loss: 0.1029\n",
      ">>>>>>>>>>>>>>>>>>>>>>>>>>>>>>>>>>>>>>>>>>>>>>>>>>>>> 9\n",
      "Train on 74073 samples, validate on 18519 samples\n",
      "Epoch 1/1000\n",
      "74073/74073 - 23s - loss: 0.3450 - val_loss: 0.1416\n",
      "Epoch 2/1000\n",
      "74073/74073 - 21s - loss: 0.1357 - val_loss: 0.1386\n",
      "Epoch 3/1000\n",
      "74073/74073 - 24s - loss: 0.1168 - val_loss: 0.1150\n",
      "Epoch 4/1000\n",
      "74073/74073 - 26s - loss: 0.1069 - val_loss: 0.1046\n",
      "Epoch 5/1000\n",
      "74073/74073 - 27s - loss: 0.1009 - val_loss: 0.1063\n",
      "Best Model Loaded...\n",
      "Wall time: 16min 54s\n"
     ]
    }
   ],
   "source": [
    "%%time\n",
    "checkpointer = ModelCheckpoint(filepath=\"saved/projectBestSave_relu.hdf5\", verbose=0, save_best_only=True)\n",
    "\n",
    "for i in range(10):\n",
    "    print('>>>>>>>>>>>>>>>>>>>>>>>>>>>>>>>>>>>>>>>>>>>>>>>>>>>>>' , i)\n",
    "    #build model\n",
    "    model = Sequential()\n",
    "    model.add(Dense(25, input_dim=train_ready.shape[1], activation='tanh'))\n",
    "    model.add(Dense(10, activation='tanh'))\n",
    "    model.add(Dense(50, activation='tanh'))\n",
    "    model.add(Dense(7,  activation='tanh'))\n",
    "    model.add(Dense(15, activation='tanh'))\n",
    "    model.add(Dense(1))\n",
    "    \n",
    "    #Compile model \n",
    "    model.compile(loss='mean_squared_error' , optimizer='sgd')\n",
    "    \n",
    "    #Early Stopping\n",
    "    monitor = EarlyStopping(monitor='val_loss', min_delta=1e-3, patience=1, verbose=0, mode='auto')\n",
    "    \n",
    "    #Training\n",
    "    model.fit(x_train, y_train,\n",
    "              validation_data=(x_test,y_test),\n",
    "              batch_size=32,\n",
    "              callbacks=[monitor,checkpointer],\n",
    "              verbose=2,\n",
    "              epochs=1000)\n",
    "#Load Best Model \n",
    "model.load_weights('saved/projectBestSave_relu.hdf5')\n",
    "print(\"Best Model Loaded...\")"
   ]
  },
  {
   "cell_type": "code",
   "execution_count": null,
   "metadata": {},
   "outputs": [],
   "source": []
  },
  {
   "cell_type": "code",
   "execution_count": 20,
   "metadata": {},
   "outputs": [],
   "source": [
    "pred = model.predict(x_test) "
   ]
  },
  {
   "cell_type": "code",
   "execution_count": 21,
   "metadata": {},
   "outputs": [
    {
     "name": "stdout",
     "output_type": "stream",
     "text": [
      "Final score (RMSE): 0.31945526249613737\n"
     ]
    }
   ],
   "source": [
    "score = np.sqrt(metrics.mean_squared_error(pred,y_test))\n",
    "print(\"Final score (RMSE): {}\".format(score))"
   ]
  },
  {
   "cell_type": "code",
   "execution_count": 22,
   "metadata": {},
   "outputs": [
    {
     "data": {
      "image/png": "[encoded data removed]",
      "text/plain": [
       "<Figure size 1440x720 with 1 Axes>"
      ]
     },
     "metadata": {
      "needs_background": "light"
     },
     "output_type": "display_data"
    }
   ],
   "source": [
    "chart_regression(pred.flatten(),y_test.values.flatten(), sort=True)"
   ]
  },
  {
   "cell_type": "code",
   "execution_count": null,
   "metadata": {},
   "outputs": [],
   "source": []
  },
  {
   "cell_type": "code",
   "execution_count": null,
   "metadata": {},
   "outputs": [],
   "source": []
  },
  {
   "cell_type": "code",
   "execution_count": null,
   "metadata": {},
   "outputs": [],
   "source": []
  },
  {
   "cell_type": "code",
   "execution_count": null,
   "metadata": {},
   "outputs": [],
   "source": []
  },
  {
   "cell_type": "code",
   "execution_count": null,
   "metadata": {},
   "outputs": [],
   "source": []
  },
  {
   "cell_type": "code",
   "execution_count": null,
   "metadata": {},
   "outputs": [],
   "source": []
  },
  {
   "cell_type": "code",
   "execution_count": null,
   "metadata": {},
   "outputs": [],
   "source": []
  },
  {
   "cell_type": "code",
   "execution_count": null,
   "metadata": {},
   "outputs": [],
   "source": []
  },
  {
   "cell_type": "code",
   "execution_count": null,
   "metadata": {},
   "outputs": [],
   "source": []
  },
  {
   "cell_type": "code",
   "execution_count": null,
   "metadata": {},
   "outputs": [],
   "source": []
  },
  {
   "cell_type": "code",
   "execution_count": null,
   "metadata": {},
   "outputs": [],
   "source": []
  },
  {
   "cell_type": "code",
   "execution_count": null,
   "metadata": {},
   "outputs": [],
   "source": []
  },
  {
   "cell_type": "code",
   "execution_count": null,
   "metadata": {},
   "outputs": [],
   "source": []
  },
  {
   "cell_type": "code",
   "execution_count": null,
   "metadata": {},
   "outputs": [],
   "source": []
  },
  {
   "cell_type": "code",
   "execution_count": null,
   "metadata": {},
   "outputs": [],
   "source": []
  },
  {
   "cell_type": "code",
   "execution_count": null,
   "metadata": {},
   "outputs": [],
   "source": []
  },
  {
   "cell_type": "code",
   "execution_count": null,
   "metadata": {},
   "outputs": [],
   "source": []
  },
  {
   "cell_type": "code",
   "execution_count": null,
   "metadata": {},
   "outputs": [],
   "source": []
  },
  {
   "cell_type": "code",
   "execution_count": null,
   "metadata": {},
   "outputs": [],
   "source": []
  },
  {
   "cell_type": "code",
   "execution_count": null,
   "metadata": {},
   "outputs": [],
   "source": []
  },
  {
   "cell_type": "code",
   "execution_count": null,
   "metadata": {},
   "outputs": [],
   "source": []
  },
  {
   "cell_type": "code",
   "execution_count": null,
   "metadata": {},
   "outputs": [],
   "source": []
  },
  {
   "cell_type": "code",
   "execution_count": null,
   "metadata": {},
   "outputs": [],
   "source": []
  },
  {
   "cell_type": "code",
   "execution_count": null,
   "metadata": {},
   "outputs": [],
   "source": []
  },
  {
   "cell_type": "code",
   "execution_count": null,
   "metadata": {},
   "outputs": [],
   "source": []
  },
  {
   "cell_type": "code",
   "execution_count": null,
   "metadata": {},
   "outputs": [],
   "source": []
  },
  {
   "cell_type": "code",
   "execution_count": null,
   "metadata": {},
   "outputs": [],
   "source": []
  },
  {
   "cell_type": "code",
   "execution_count": null,
   "metadata": {},
   "outputs": [],
   "source": []
  },
  {
   "cell_type": "code",
   "execution_count": 51,
   "metadata": {},
   "outputs": [],
   "source": [
    "final = pd.read_csv('final.csv', na_values=['NA','?']) # Can Skip ? No."
   ]
  },
  {
   "cell_type": "code",
   "execution_count": 52,
   "metadata": {},
   "outputs": [],
   "source": [
    "#Create df with only indices_test Add predicted rating \n",
    "foo = pd.DataFrame( {'final' : indices_test})\n",
    "foo['y_test'] = foo.index\n",
    "foo['pr'] = pred\n",
    "foo = foo.sort_values(by='final', ascending=True)"
   ]
  },
  {
   "cell_type": "code",
   "execution_count": 53,
   "metadata": {},
   "outputs": [],
   "source": [
    "#join 2 columns \n",
    "done = pd.merge(foo,final, left_on='final' , right_on=final.index) "
   ]
  },
  {
   "cell_type": "code",
   "execution_count": 54,
   "metadata": {},
   "outputs": [],
   "source": [
    "result = pd.concat([done.name,done.stars,done.pr] , axis=1)"
   ]
  },
  {
   "cell_type": "code",
   "execution_count": 55,
   "metadata": {},
   "outputs": [],
   "source": [
    "result = result.sort_values(by='name' , ascending=False)"
   ]
  },
  {
   "cell_type": "code",
   "execution_count": 56,
   "metadata": {},
   "outputs": [
    {
     "data": {
      "text/html": [
       "<div>\n",
       "<style scoped>\n",
       "    .dataframe tbody tr th:only-of-type {\n",
       "        vertical-align: middle;\n",
       "    }\n",
       "\n",
       "    .dataframe tbody tr th {\n",
       "        vertical-align: top;\n",
       "    }\n",
       "\n",
       "    .dataframe thead th {\n",
       "        text-align: right;\n",
       "    }\n",
       "</style>\n",
       "<table border=\"1\" class=\"dataframe\">\n",
       "  <thead>\n",
       "    <tr style=\"text-align: right;\">\n",
       "      <th></th>\n",
       "      <th>name</th>\n",
       "      <th>stars</th>\n",
       "      <th>pr</th>\n",
       "    </tr>\n",
       "  </thead>\n",
       "  <tbody>\n",
       "    <tr>\n",
       "      <th>599</th>\n",
       "      <td>b'z-teca Gourmet Burritos'</td>\n",
       "      <td>2.5</td>\n",
       "      <td>2.373703</td>\n",
       "    </tr>\n",
       "    <tr>\n",
       "      <th>4519</th>\n",
       "      <td>b'west elm'</td>\n",
       "      <td>3.5</td>\n",
       "      <td>3.334174</td>\n",
       "    </tr>\n",
       "    <tr>\n",
       "      <th>1346</th>\n",
       "      <td>b'west elm'</td>\n",
       "      <td>3.5</td>\n",
       "      <td>3.515415</td>\n",
       "    </tr>\n",
       "    <tr>\n",
       "      <th>11769</th>\n",
       "      <td>b'urbAna'</td>\n",
       "      <td>5.0</td>\n",
       "      <td>4.790074</td>\n",
       "    </tr>\n",
       "    <tr>\n",
       "      <th>4190</th>\n",
       "      <td>b'unPhogettable'</td>\n",
       "      <td>4.0</td>\n",
       "      <td>4.184767</td>\n",
       "    </tr>\n",
       "    <tr>\n",
       "      <th>3076</th>\n",
       "      <td>b'uFly Simulator'</td>\n",
       "      <td>4.5</td>\n",
       "      <td>4.651718</td>\n",
       "    </tr>\n",
       "    <tr>\n",
       "      <th>14354</th>\n",
       "      <td>b'uBreakiFix'</td>\n",
       "      <td>4.0</td>\n",
       "      <td>4.070764</td>\n",
       "    </tr>\n",
       "    <tr>\n",
       "      <th>2825</th>\n",
       "      <td>b'uBreakiFix'</td>\n",
       "      <td>4.5</td>\n",
       "      <td>4.255729</td>\n",
       "    </tr>\n",
       "    <tr>\n",
       "      <th>2202</th>\n",
       "      <td>b'uBreakiFix'</td>\n",
       "      <td>4.0</td>\n",
       "      <td>4.161150</td>\n",
       "    </tr>\n",
       "    <tr>\n",
       "      <th>13179</th>\n",
       "      <td>b'uBreakiFix'</td>\n",
       "      <td>4.5</td>\n",
       "      <td>4.244125</td>\n",
       "    </tr>\n",
       "    <tr>\n",
       "      <th>8703</th>\n",
       "      <td>b'uBreakiFix'</td>\n",
       "      <td>4.5</td>\n",
       "      <td>4.399043</td>\n",
       "    </tr>\n",
       "    <tr>\n",
       "      <th>2120</th>\n",
       "      <td>b'uBreakiFix Summerlin'</td>\n",
       "      <td>5.0</td>\n",
       "      <td>4.757367</td>\n",
       "    </tr>\n",
       "    <tr>\n",
       "      <th>8237</th>\n",
       "      <td>b'teres : A Nail Bar'</td>\n",
       "      <td>4.0</td>\n",
       "      <td>3.937378</td>\n",
       "    </tr>\n",
       "    <tr>\n",
       "      <th>5712</th>\n",
       "      <td>b'swampt'</td>\n",
       "      <td>5.0</td>\n",
       "      <td>4.986987</td>\n",
       "    </tr>\n",
       "    <tr>\n",
       "      <th>2041</th>\n",
       "      <td>b's\\xc3\\xbc\\xc3\\xbcp health bar'</td>\n",
       "      <td>3.5</td>\n",
       "      <td>3.480574</td>\n",
       "    </tr>\n",
       "    <tr>\n",
       "      <th>1426</th>\n",
       "      <td>b'repwest Insurance'</td>\n",
       "      <td>2.0</td>\n",
       "      <td>1.544630</td>\n",
       "    </tr>\n",
       "    <tr>\n",
       "      <th>7059</th>\n",
       "      <td>b'racelab'</td>\n",
       "      <td>4.5</td>\n",
       "      <td>4.685463</td>\n",
       "    </tr>\n",
       "    <tr>\n",
       "      <th>3513</th>\n",
       "      <td>b'notion'</td>\n",
       "      <td>4.0</td>\n",
       "      <td>4.134509</td>\n",
       "    </tr>\n",
       "    <tr>\n",
       "      <th>5366</th>\n",
       "      <td>b'moveON moving'</td>\n",
       "      <td>1.5</td>\n",
       "      <td>1.446569</td>\n",
       "    </tr>\n",
       "    <tr>\n",
       "      <th>15519</th>\n",
       "      <td>b'minibarbershop'</td>\n",
       "      <td>3.5</td>\n",
       "      <td>3.632325</td>\n",
       "    </tr>\n",
       "    <tr>\n",
       "      <th>10492</th>\n",
       "      <td>b'milk+honey espresso bar &amp; eatery'</td>\n",
       "      <td>4.5</td>\n",
       "      <td>4.309102</td>\n",
       "    </tr>\n",
       "    <tr>\n",
       "      <th>5770</th>\n",
       "      <td>b'm:brgr'</td>\n",
       "      <td>3.0</td>\n",
       "      <td>3.287921</td>\n",
       "    </tr>\n",
       "    <tr>\n",
       "      <th>96</th>\n",
       "      <td>b'la Madeleine'</td>\n",
       "      <td>4.0</td>\n",
       "      <td>4.395357</td>\n",
       "    </tr>\n",
       "    <tr>\n",
       "      <th>5875</th>\n",
       "      <td>b'kate spade new york'</td>\n",
       "      <td>3.5</td>\n",
       "      <td>3.863187</td>\n",
       "    </tr>\n",
       "    <tr>\n",
       "      <th>14405</th>\n",
       "      <td>b'isew Alterations'</td>\n",
       "      <td>5.0</td>\n",
       "      <td>4.964534</td>\n",
       "    </tr>\n",
       "    <tr>\n",
       "      <th>10190</th>\n",
       "      <td>b'illstyl3 Sammies'</td>\n",
       "      <td>4.5</td>\n",
       "      <td>4.623768</td>\n",
       "    </tr>\n",
       "    <tr>\n",
       "      <th>12317</th>\n",
       "      <td>b'ilashnBrows'</td>\n",
       "      <td>4.5</td>\n",
       "      <td>4.997384</td>\n",
       "    </tr>\n",
       "    <tr>\n",
       "      <th>6564</th>\n",
       "      <td>b'ibake'</td>\n",
       "      <td>3.0</td>\n",
       "      <td>2.984061</td>\n",
       "    </tr>\n",
       "    <tr>\n",
       "      <th>6956</th>\n",
       "      <td>b'iWired'</td>\n",
       "      <td>3.5</td>\n",
       "      <td>3.179090</td>\n",
       "    </tr>\n",
       "    <tr>\n",
       "      <th>12544</th>\n",
       "      <td>b'iSmile Dentistry'</td>\n",
       "      <td>2.5</td>\n",
       "      <td>3.042094</td>\n",
       "    </tr>\n",
       "    <tr>\n",
       "      <th>...</th>\n",
       "      <td>...</td>\n",
       "      <td>...</td>\n",
       "      <td>...</td>\n",
       "    </tr>\n",
       "    <tr>\n",
       "      <th>3135</th>\n",
       "      <td>b\"Aj's Purveyor of Fine Foods\"</td>\n",
       "      <td>4.0</td>\n",
       "      <td>3.879466</td>\n",
       "    </tr>\n",
       "    <tr>\n",
       "      <th>13609</th>\n",
       "      <td>b\"Aj's Fine Foods\"</td>\n",
       "      <td>3.5</td>\n",
       "      <td>3.654316</td>\n",
       "    </tr>\n",
       "    <tr>\n",
       "      <th>1056</th>\n",
       "      <td>b\"Agi's Tanning\"</td>\n",
       "      <td>3.5</td>\n",
       "      <td>3.533324</td>\n",
       "    </tr>\n",
       "    <tr>\n",
       "      <th>11799</th>\n",
       "      <td>b\"Affiliated Children's Dental Specialists\"</td>\n",
       "      <td>5.0</td>\n",
       "      <td>4.881240</td>\n",
       "    </tr>\n",
       "    <tr>\n",
       "      <th>3873</th>\n",
       "      <td>b\"Adrian's Pizza\"</td>\n",
       "      <td>2.5</td>\n",
       "      <td>2.685782</td>\n",
       "    </tr>\n",
       "    <tr>\n",
       "      <th>827</th>\n",
       "      <td>b\"Adrian's Pizza\"</td>\n",
       "      <td>4.0</td>\n",
       "      <td>4.006290</td>\n",
       "    </tr>\n",
       "    <tr>\n",
       "      <th>2108</th>\n",
       "      <td>b\"Adi's Active Nutrition\"</td>\n",
       "      <td>4.0</td>\n",
       "      <td>3.950614</td>\n",
       "    </tr>\n",
       "    <tr>\n",
       "      <th>9422</th>\n",
       "      <td>b\"Addley's Bagel\"</td>\n",
       "      <td>4.5</td>\n",
       "      <td>4.233336</td>\n",
       "    </tr>\n",
       "    <tr>\n",
       "      <th>1010</th>\n",
       "      <td>b\"Adam's Place\"</td>\n",
       "      <td>4.0</td>\n",
       "      <td>4.109761</td>\n",
       "    </tr>\n",
       "    <tr>\n",
       "      <th>1373</th>\n",
       "      <td>b\"Adam's Pizza and Wings\"</td>\n",
       "      <td>3.5</td>\n",
       "      <td>3.509896</td>\n",
       "    </tr>\n",
       "    <tr>\n",
       "      <th>979</th>\n",
       "      <td>b\"Adam's Barber Shop\"</td>\n",
       "      <td>4.5</td>\n",
       "      <td>4.063114</td>\n",
       "    </tr>\n",
       "    <tr>\n",
       "      <th>2809</th>\n",
       "      <td>b\"Abuelo's\"</td>\n",
       "      <td>3.5</td>\n",
       "      <td>3.362868</td>\n",
       "    </tr>\n",
       "    <tr>\n",
       "      <th>16130</th>\n",
       "      <td>b\"Abuela's Tacos\"</td>\n",
       "      <td>4.5</td>\n",
       "      <td>4.420992</td>\n",
       "    </tr>\n",
       "    <tr>\n",
       "      <th>3501</th>\n",
       "      <td>b\"Abe's of Scottsdale Deli Restaurant\"</td>\n",
       "      <td>3.5</td>\n",
       "      <td>3.938370</td>\n",
       "    </tr>\n",
       "    <tr>\n",
       "      <th>16192</th>\n",
       "      <td>b\"AJ's Mongolian BBQ\"</td>\n",
       "      <td>3.0</td>\n",
       "      <td>3.111517</td>\n",
       "    </tr>\n",
       "    <tr>\n",
       "      <th>10463</th>\n",
       "      <td>b\"AJ's Inca Peruvian Restaurant\"</td>\n",
       "      <td>3.5</td>\n",
       "      <td>3.521968</td>\n",
       "    </tr>\n",
       "    <tr>\n",
       "      <th>11323</th>\n",
       "      <td>b\"AJ's Fine Foods\"</td>\n",
       "      <td>3.5</td>\n",
       "      <td>3.867675</td>\n",
       "    </tr>\n",
       "    <tr>\n",
       "      <th>9812</th>\n",
       "      <td>b\"AJ's Auto Service\"</td>\n",
       "      <td>4.0</td>\n",
       "      <td>4.491453</td>\n",
       "    </tr>\n",
       "    <tr>\n",
       "      <th>13700</th>\n",
       "      <td>b\"A.J. Rocco's\"</td>\n",
       "      <td>4.5</td>\n",
       "      <td>4.340192</td>\n",
       "    </tr>\n",
       "    <tr>\n",
       "      <th>88</th>\n",
       "      <td>b\"A-1 Auto's &amp; Detail\"</td>\n",
       "      <td>3.0</td>\n",
       "      <td>2.851289</td>\n",
       "    </tr>\n",
       "    <tr>\n",
       "      <th>15333</th>\n",
       "      <td>b\"A&amp;M Corson's AquaValue\"</td>\n",
       "      <td>3.0</td>\n",
       "      <td>3.017811</td>\n",
       "    </tr>\n",
       "    <tr>\n",
       "      <th>3838</th>\n",
       "      <td>b\"A Woman's Place\"</td>\n",
       "      <td>2.5</td>\n",
       "      <td>2.302370</td>\n",
       "    </tr>\n",
       "    <tr>\n",
       "      <th>14429</th>\n",
       "      <td>b\"A Woman's Place\"</td>\n",
       "      <td>1.5</td>\n",
       "      <td>1.643499</td>\n",
       "    </tr>\n",
       "    <tr>\n",
       "      <th>2461</th>\n",
       "      <td>b\"A Dog's Best Friend\"</td>\n",
       "      <td>4.0</td>\n",
       "      <td>4.375370</td>\n",
       "    </tr>\n",
       "    <tr>\n",
       "      <th>14404</th>\n",
       "      <td>b\"A Child's Joy\"</td>\n",
       "      <td>4.0</td>\n",
       "      <td>4.470257</td>\n",
       "    </tr>\n",
       "    <tr>\n",
       "      <th>14441</th>\n",
       "      <td>b\"A Barber's Cafe &amp; Bar\"</td>\n",
       "      <td>4.5</td>\n",
       "      <td>4.660661</td>\n",
       "    </tr>\n",
       "    <tr>\n",
       "      <th>9834</th>\n",
       "      <td>b\"50's Diner\"</td>\n",
       "      <td>3.5</td>\n",
       "      <td>3.815454</td>\n",
       "    </tr>\n",
       "    <tr>\n",
       "      <th>8604</th>\n",
       "      <td>b\"18|8 Fine Men's Salons - Avon Commons\"</td>\n",
       "      <td>4.5</td>\n",
       "      <td>4.279182</td>\n",
       "    </tr>\n",
       "    <tr>\n",
       "      <th>1684</th>\n",
       "      <td>b\"18/8 Fine Men's Salons\"</td>\n",
       "      <td>4.5</td>\n",
       "      <td>4.403533</td>\n",
       "    </tr>\n",
       "    <tr>\n",
       "      <th>8699</th>\n",
       "      <td>b\"'ONO Pok\\xc3\\xa9 Bar\"</td>\n",
       "      <td>4.0</td>\n",
       "      <td>4.289577</td>\n",
       "    </tr>\n",
       "  </tbody>\n",
       "</table>\n",
       "<p>18519 rows × 3 columns</p>\n",
       "</div>"
      ],
      "text/plain": [
       "                                              name  stars        pr\n",
       "599                     b'z-teca Gourmet Burritos'    2.5  2.373703\n",
       "4519                                   b'west elm'    3.5  3.334174\n",
       "1346                                   b'west elm'    3.5  3.515415\n",
       "11769                                    b'urbAna'    5.0  4.790074\n",
       "4190                              b'unPhogettable'    4.0  4.184767\n",
       "3076                             b'uFly Simulator'    4.5  4.651718\n",
       "14354                                b'uBreakiFix'    4.0  4.070764\n",
       "2825                                 b'uBreakiFix'    4.5  4.255729\n",
       "2202                                 b'uBreakiFix'    4.0  4.161150\n",
       "13179                                b'uBreakiFix'    4.5  4.244125\n",
       "8703                                 b'uBreakiFix'    4.5  4.399043\n",
       "2120                       b'uBreakiFix Summerlin'    5.0  4.757367\n",
       "8237                         b'teres : A Nail Bar'    4.0  3.937378\n",
       "5712                                     b'swampt'    5.0  4.986987\n",
       "2041              b's\\xc3\\xbc\\xc3\\xbcp health bar'    3.5  3.480574\n",
       "1426                          b'repwest Insurance'    2.0  1.544630\n",
       "7059                                    b'racelab'    4.5  4.685463\n",
       "3513                                     b'notion'    4.0  4.134509\n",
       "5366                              b'moveON moving'    1.5  1.446569\n",
       "15519                            b'minibarbershop'    3.5  3.632325\n",
       "10492          b'milk+honey espresso bar & eatery'    4.5  4.309102\n",
       "5770                                     b'm:brgr'    3.0  3.287921\n",
       "96                                 b'la Madeleine'    4.0  4.395357\n",
       "5875                        b'kate spade new york'    3.5  3.863187\n",
       "14405                          b'isew Alterations'    5.0  4.964534\n",
       "10190                          b'illstyl3 Sammies'    4.5  4.623768\n",
       "12317                               b'ilashnBrows'    4.5  4.997384\n",
       "6564                                      b'ibake'    3.0  2.984061\n",
       "6956                                     b'iWired'    3.5  3.179090\n",
       "12544                          b'iSmile Dentistry'    2.5  3.042094\n",
       "...                                            ...    ...       ...\n",
       "3135                b\"Aj's Purveyor of Fine Foods\"    4.0  3.879466\n",
       "13609                           b\"Aj's Fine Foods\"    3.5  3.654316\n",
       "1056                              b\"Agi's Tanning\"    3.5  3.533324\n",
       "11799  b\"Affiliated Children's Dental Specialists\"    5.0  4.881240\n",
       "3873                             b\"Adrian's Pizza\"    2.5  2.685782\n",
       "827                              b\"Adrian's Pizza\"    4.0  4.006290\n",
       "2108                     b\"Adi's Active Nutrition\"    4.0  3.950614\n",
       "9422                             b\"Addley's Bagel\"    4.5  4.233336\n",
       "1010                               b\"Adam's Place\"    4.0  4.109761\n",
       "1373                     b\"Adam's Pizza and Wings\"    3.5  3.509896\n",
       "979                          b\"Adam's Barber Shop\"    4.5  4.063114\n",
       "2809                                   b\"Abuelo's\"    3.5  3.362868\n",
       "16130                            b\"Abuela's Tacos\"    4.5  4.420992\n",
       "3501        b\"Abe's of Scottsdale Deli Restaurant\"    3.5  3.938370\n",
       "16192                        b\"AJ's Mongolian BBQ\"    3.0  3.111517\n",
       "10463             b\"AJ's Inca Peruvian Restaurant\"    3.5  3.521968\n",
       "11323                           b\"AJ's Fine Foods\"    3.5  3.867675\n",
       "9812                          b\"AJ's Auto Service\"    4.0  4.491453\n",
       "13700                              b\"A.J. Rocco's\"    4.5  4.340192\n",
       "88                          b\"A-1 Auto's & Detail\"    3.0  2.851289\n",
       "15333                    b\"A&M Corson's AquaValue\"    3.0  3.017811\n",
       "3838                            b\"A Woman's Place\"    2.5  2.302370\n",
       "14429                           b\"A Woman's Place\"    1.5  1.643499\n",
       "2461                        b\"A Dog's Best Friend\"    4.0  4.375370\n",
       "14404                             b\"A Child's Joy\"    4.0  4.470257\n",
       "14441                     b\"A Barber's Cafe & Bar\"    4.5  4.660661\n",
       "9834                                 b\"50's Diner\"    3.5  3.815454\n",
       "8604      b\"18|8 Fine Men's Salons - Avon Commons\"    4.5  4.279182\n",
       "1684                     b\"18/8 Fine Men's Salons\"    4.5  4.403533\n",
       "8699                       b\"'ONO Pok\\xc3\\xa9 Bar\"    4.0  4.289577\n",
       "\n",
       "[18519 rows x 3 columns]"
      ]
     },
     "execution_count": 56,
     "metadata": {},
     "output_type": "execute_result"
    }
   ],
   "source": [
    "result"
   ]
  },
  {
   "cell_type": "code",
   "execution_count": null,
   "metadata": {},
   "outputs": [],
   "source": []
  },
  {
   "cell_type": "code",
   "execution_count": null,
   "metadata": {},
   "outputs": [],
   "source": []
  },
  {
   "cell_type": "code",
   "execution_count": null,
   "metadata": {},
   "outputs": [],
   "source": []
  }
 ],
 "metadata": {
  "kernelspec": {
   "display_name": "Python 3",
   "language": "python",
   "name": "python3"
  },
  "language_info": {
   "codemirror_mode": {
    "name": "ipython",
    "version": 3
   },
   "file_extension": ".py",
   "mimetype": "text/x-python",
   "name": "python",
   "nbconvert_exporter": "python",
   "pygments_lexer": "ipython3",
   "version": "3.7.3"
  }
 },
 "nbformat": 4,
 "nbformat_minor": 4
}
